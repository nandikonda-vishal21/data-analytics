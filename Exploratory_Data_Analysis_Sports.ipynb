{
  "nbformat": 4,
  "nbformat_minor": 0,
  "metadata": {
    "colab": {
      "name": "Exploratory Data Analysis - Sports.ipynb",
      "provenance": [],
      "authorship_tag": "ABX9TyPVsw7ShVUqs20K9yCYQrcM",
      "include_colab_link": true
    },
    "kernelspec": {
      "name": "python3",
      "display_name": "Python 3"
    },
    "language_info": {
      "name": "python"
    }
  },
  "cells": [
    {
      "cell_type": "markdown",
      "metadata": {
        "id": "view-in-github",
        "colab_type": "text"
      },
      "source": [
        "<a href=\"https://colab.research.google.com/github/nandikonda-vishal21/data-analytics/blob/main/Exploratory_Data_Analysis_Sports.ipynb\" target=\"_parent\"><img src=\"https://colab.research.google.com/assets/colab-badge.svg\" alt=\"Open In Colab\"/></a>"
      ]
    },
    {
      "cell_type": "markdown",
      "metadata": {
        "id": "Yx25QMbVmdX9"
      },
      "source": [
        "**Problem Statement**\n",
        "\n",
        "• Perform ‘Exploratory Data Analysis’ on dataset ‘Indian Premier League’\n",
        "\n",
        "• As a sports analysts, find out the most successful teams, players and factors contributing win or loss of a team.\n",
        "\n",
        "• Suggest teams or players a company should endorse for its products.\n",
        "\n",
        "\n",
        "**Work Flow**\n",
        "\n",
        "1) Data collection\n",
        "\n",
        "2) Data Pre-processing\n",
        "\n",
        "3) Exploratory Data analysis"
      ]
    },
    {
      "cell_type": "markdown",
      "metadata": {
        "id": "Sj6ooshrn075"
      },
      "source": [
        "**Importing the libraries**"
      ]
    },
    {
      "cell_type": "code",
      "metadata": {
        "id": "1niVLqYun8DN"
      },
      "source": [
        "import pandas as pd\n",
        "import numpy as np\n",
        "import seaborn as sns\n",
        "import matplotlib.pyplot as plt"
      ],
      "execution_count": 1,
      "outputs": []
    },
    {
      "cell_type": "markdown",
      "metadata": {
        "id": "1MtB0bAOpOr6"
      },
      "source": [
        "**Data Collection**"
      ]
    },
    {
      "cell_type": "code",
      "metadata": {
        "colab": {
          "base_uri": "https://localhost:8080/",
          "height": 442
        },
        "id": "7JYH9gpwpUvP",
        "outputId": "c36c97cb-d4d1-4aa8-df6c-53bea27f38ce"
      },
      "source": [
        "df = pd.read_csv('matches.csv')\n",
        "df.head()"
      ],
      "execution_count": 2,
      "outputs": [
        {
          "output_type": "execute_result",
          "data": {
            "text/html": [
              "<div>\n",
              "<style scoped>\n",
              "    .dataframe tbody tr th:only-of-type {\n",
              "        vertical-align: middle;\n",
              "    }\n",
              "\n",
              "    .dataframe tbody tr th {\n",
              "        vertical-align: top;\n",
              "    }\n",
              "\n",
              "    .dataframe thead th {\n",
              "        text-align: right;\n",
              "    }\n",
              "</style>\n",
              "<table border=\"1\" class=\"dataframe\">\n",
              "  <thead>\n",
              "    <tr style=\"text-align: right;\">\n",
              "      <th></th>\n",
              "      <th>id</th>\n",
              "      <th>season</th>\n",
              "      <th>city</th>\n",
              "      <th>date</th>\n",
              "      <th>team1</th>\n",
              "      <th>team2</th>\n",
              "      <th>toss_winner</th>\n",
              "      <th>toss_decision</th>\n",
              "      <th>result</th>\n",
              "      <th>dl_applied</th>\n",
              "      <th>winner</th>\n",
              "      <th>win_by_runs</th>\n",
              "      <th>win_by_wickets</th>\n",
              "      <th>player_of_match</th>\n",
              "      <th>venue</th>\n",
              "      <th>umpire1</th>\n",
              "      <th>umpire2</th>\n",
              "      <th>umpire3</th>\n",
              "    </tr>\n",
              "  </thead>\n",
              "  <tbody>\n",
              "    <tr>\n",
              "      <th>0</th>\n",
              "      <td>1</td>\n",
              "      <td>2017</td>\n",
              "      <td>Hyderabad</td>\n",
              "      <td>2017-04-05</td>\n",
              "      <td>Sunrisers Hyderabad</td>\n",
              "      <td>Royal Challengers Bangalore</td>\n",
              "      <td>Royal Challengers Bangalore</td>\n",
              "      <td>field</td>\n",
              "      <td>normal</td>\n",
              "      <td>0</td>\n",
              "      <td>Sunrisers Hyderabad</td>\n",
              "      <td>35</td>\n",
              "      <td>0</td>\n",
              "      <td>Yuvraj Singh</td>\n",
              "      <td>Rajiv Gandhi International Stadium, Uppal</td>\n",
              "      <td>AY Dandekar</td>\n",
              "      <td>NJ Llong</td>\n",
              "      <td>NaN</td>\n",
              "    </tr>\n",
              "    <tr>\n",
              "      <th>1</th>\n",
              "      <td>2</td>\n",
              "      <td>2017</td>\n",
              "      <td>Pune</td>\n",
              "      <td>2017-04-06</td>\n",
              "      <td>Mumbai Indians</td>\n",
              "      <td>Rising Pune Supergiant</td>\n",
              "      <td>Rising Pune Supergiant</td>\n",
              "      <td>field</td>\n",
              "      <td>normal</td>\n",
              "      <td>0</td>\n",
              "      <td>Rising Pune Supergiant</td>\n",
              "      <td>0</td>\n",
              "      <td>7</td>\n",
              "      <td>SPD Smith</td>\n",
              "      <td>Maharashtra Cricket Association Stadium</td>\n",
              "      <td>A Nand Kishore</td>\n",
              "      <td>S Ravi</td>\n",
              "      <td>NaN</td>\n",
              "    </tr>\n",
              "    <tr>\n",
              "      <th>2</th>\n",
              "      <td>3</td>\n",
              "      <td>2017</td>\n",
              "      <td>Rajkot</td>\n",
              "      <td>2017-04-07</td>\n",
              "      <td>Gujarat Lions</td>\n",
              "      <td>Kolkata Knight Riders</td>\n",
              "      <td>Kolkata Knight Riders</td>\n",
              "      <td>field</td>\n",
              "      <td>normal</td>\n",
              "      <td>0</td>\n",
              "      <td>Kolkata Knight Riders</td>\n",
              "      <td>0</td>\n",
              "      <td>10</td>\n",
              "      <td>CA Lynn</td>\n",
              "      <td>Saurashtra Cricket Association Stadium</td>\n",
              "      <td>Nitin Menon</td>\n",
              "      <td>CK Nandan</td>\n",
              "      <td>NaN</td>\n",
              "    </tr>\n",
              "    <tr>\n",
              "      <th>3</th>\n",
              "      <td>4</td>\n",
              "      <td>2017</td>\n",
              "      <td>Indore</td>\n",
              "      <td>2017-04-08</td>\n",
              "      <td>Rising Pune Supergiant</td>\n",
              "      <td>Kings XI Punjab</td>\n",
              "      <td>Kings XI Punjab</td>\n",
              "      <td>field</td>\n",
              "      <td>normal</td>\n",
              "      <td>0</td>\n",
              "      <td>Kings XI Punjab</td>\n",
              "      <td>0</td>\n",
              "      <td>6</td>\n",
              "      <td>GJ Maxwell</td>\n",
              "      <td>Holkar Cricket Stadium</td>\n",
              "      <td>AK Chaudhary</td>\n",
              "      <td>C Shamshuddin</td>\n",
              "      <td>NaN</td>\n",
              "    </tr>\n",
              "    <tr>\n",
              "      <th>4</th>\n",
              "      <td>5</td>\n",
              "      <td>2017</td>\n",
              "      <td>Bangalore</td>\n",
              "      <td>2017-04-08</td>\n",
              "      <td>Royal Challengers Bangalore</td>\n",
              "      <td>Delhi Daredevils</td>\n",
              "      <td>Royal Challengers Bangalore</td>\n",
              "      <td>bat</td>\n",
              "      <td>normal</td>\n",
              "      <td>0</td>\n",
              "      <td>Royal Challengers Bangalore</td>\n",
              "      <td>15</td>\n",
              "      <td>0</td>\n",
              "      <td>KM Jadhav</td>\n",
              "      <td>M Chinnaswamy Stadium</td>\n",
              "      <td>NaN</td>\n",
              "      <td>NaN</td>\n",
              "      <td>NaN</td>\n",
              "    </tr>\n",
              "  </tbody>\n",
              "</table>\n",
              "</div>"
            ],
            "text/plain": [
              "   id  season       city  ...         umpire1        umpire2 umpire3\n",
              "0   1    2017  Hyderabad  ...     AY Dandekar       NJ Llong     NaN\n",
              "1   2    2017       Pune  ...  A Nand Kishore         S Ravi     NaN\n",
              "2   3    2017     Rajkot  ...     Nitin Menon      CK Nandan     NaN\n",
              "3   4    2017     Indore  ...    AK Chaudhary  C Shamshuddin     NaN\n",
              "4   5    2017  Bangalore  ...             NaN            NaN     NaN\n",
              "\n",
              "[5 rows x 18 columns]"
            ]
          },
          "metadata": {
            "tags": []
          },
          "execution_count": 2
        }
      ]
    },
    {
      "cell_type": "code",
      "metadata": {
        "colab": {
          "base_uri": "https://localhost:8080/"
        },
        "id": "nTx94ESjpmCC",
        "outputId": "5f21da28-924e-4020-e8ad-da4bece6c205"
      },
      "source": [
        "df.shape"
      ],
      "execution_count": 3,
      "outputs": [
        {
          "output_type": "execute_result",
          "data": {
            "text/plain": [
              "(756, 18)"
            ]
          },
          "metadata": {
            "tags": []
          },
          "execution_count": 3
        }
      ]
    },
    {
      "cell_type": "markdown",
      "metadata": {
        "id": "jdK6BP2FpuTP"
      },
      "source": [
        "**Data Cleaning**"
      ]
    },
    {
      "cell_type": "code",
      "metadata": {
        "colab": {
          "base_uri": "https://localhost:8080/"
        },
        "id": "ox9odG4kpxIK",
        "outputId": "ea2d145f-5baa-4638-cf85-9b1473c560c7"
      },
      "source": [
        "# Checking the number of missing values present\n",
        "df.isnull().sum()"
      ],
      "execution_count": 4,
      "outputs": [
        {
          "output_type": "execute_result",
          "data": {
            "text/plain": [
              "id                   0\n",
              "season               0\n",
              "city                 7\n",
              "date                 0\n",
              "team1                0\n",
              "team2                0\n",
              "toss_winner          0\n",
              "toss_decision        0\n",
              "result               0\n",
              "dl_applied           0\n",
              "winner               4\n",
              "win_by_runs          0\n",
              "win_by_wickets       0\n",
              "player_of_match      4\n",
              "venue                0\n",
              "umpire1              2\n",
              "umpire2              2\n",
              "umpire3            637\n",
              "dtype: int64"
            ]
          },
          "metadata": {
            "tags": []
          },
          "execution_count": 4
        }
      ]
    },
    {
      "cell_type": "code",
      "metadata": {
        "colab": {
          "base_uri": "https://localhost:8080/"
        },
        "id": "IVXsx86Lp7r8",
        "outputId": "e2629494-1667-4f09-b9c2-ef5115dbdca2"
      },
      "source": [
        "# Dropping missing values from columns where the count is negligible\n",
        "df = df.dropna(subset=['city', 'winner', 'player_of_match','umpire1','umpire2'])\n",
        "df.shape"
      ],
      "execution_count": 5,
      "outputs": [
        {
          "output_type": "execute_result",
          "data": {
            "text/plain": [
              "(743, 18)"
            ]
          },
          "metadata": {
            "tags": []
          },
          "execution_count": 5
        }
      ]
    },
    {
      "cell_type": "code",
      "metadata": {
        "id": "hlBUvsG_qHLV"
      },
      "source": [
        "# Replacing the mssing values of umpire3 by 'Unknown'\n",
        "\n",
        "df['umpire3'] = df['umpire3'].replace(np.nan, 'Unknown')"
      ],
      "execution_count": 6,
      "outputs": []
    },
    {
      "cell_type": "code",
      "metadata": {
        "colab": {
          "base_uri": "https://localhost:8080/"
        },
        "id": "t8cKqLozqLy9",
        "outputId": "f49b5fe3-3489-44a9-9585-562ae1e9fb21"
      },
      "source": [
        "df['date'] = pd.to_datetime(df['date'])\n",
        "df.dtypes"
      ],
      "execution_count": 7,
      "outputs": [
        {
          "output_type": "execute_result",
          "data": {
            "text/plain": [
              "id                          int64\n",
              "season                      int64\n",
              "city                       object\n",
              "date               datetime64[ns]\n",
              "team1                      object\n",
              "team2                      object\n",
              "toss_winner                object\n",
              "toss_decision              object\n",
              "result                     object\n",
              "dl_applied                  int64\n",
              "winner                     object\n",
              "win_by_runs                 int64\n",
              "win_by_wickets              int64\n",
              "player_of_match            object\n",
              "venue                      object\n",
              "umpire1                    object\n",
              "umpire2                    object\n",
              "umpire3                    object\n",
              "dtype: object"
            ]
          },
          "metadata": {
            "tags": []
          },
          "execution_count": 7
        }
      ]
    },
    {
      "cell_type": "code",
      "metadata": {
        "colab": {
          "base_uri": "https://localhost:8080/",
          "height": 492
        },
        "id": "W_Js3YygqQ8T",
        "outputId": "443679d0-f722-4227-d855-3bd23720bf00"
      },
      "source": [
        "# Adding a few more columns to our dataset which we might use in the future \n",
        "\n",
        "df['Year'] = df['date'].dt.year\n",
        "df['Month'] = df['date'].dt.month\n",
        "\n",
        "df.head()"
      ],
      "execution_count": 8,
      "outputs": [
        {
          "output_type": "execute_result",
          "data": {
            "text/html": [
              "<div>\n",
              "<style scoped>\n",
              "    .dataframe tbody tr th:only-of-type {\n",
              "        vertical-align: middle;\n",
              "    }\n",
              "\n",
              "    .dataframe tbody tr th {\n",
              "        vertical-align: top;\n",
              "    }\n",
              "\n",
              "    .dataframe thead th {\n",
              "        text-align: right;\n",
              "    }\n",
              "</style>\n",
              "<table border=\"1\" class=\"dataframe\">\n",
              "  <thead>\n",
              "    <tr style=\"text-align: right;\">\n",
              "      <th></th>\n",
              "      <th>id</th>\n",
              "      <th>season</th>\n",
              "      <th>city</th>\n",
              "      <th>date</th>\n",
              "      <th>team1</th>\n",
              "      <th>team2</th>\n",
              "      <th>toss_winner</th>\n",
              "      <th>toss_decision</th>\n",
              "      <th>result</th>\n",
              "      <th>dl_applied</th>\n",
              "      <th>winner</th>\n",
              "      <th>win_by_runs</th>\n",
              "      <th>win_by_wickets</th>\n",
              "      <th>player_of_match</th>\n",
              "      <th>venue</th>\n",
              "      <th>umpire1</th>\n",
              "      <th>umpire2</th>\n",
              "      <th>umpire3</th>\n",
              "      <th>Year</th>\n",
              "      <th>Month</th>\n",
              "    </tr>\n",
              "  </thead>\n",
              "  <tbody>\n",
              "    <tr>\n",
              "      <th>0</th>\n",
              "      <td>1</td>\n",
              "      <td>2017</td>\n",
              "      <td>Hyderabad</td>\n",
              "      <td>2017-04-05</td>\n",
              "      <td>Sunrisers Hyderabad</td>\n",
              "      <td>Royal Challengers Bangalore</td>\n",
              "      <td>Royal Challengers Bangalore</td>\n",
              "      <td>field</td>\n",
              "      <td>normal</td>\n",
              "      <td>0</td>\n",
              "      <td>Sunrisers Hyderabad</td>\n",
              "      <td>35</td>\n",
              "      <td>0</td>\n",
              "      <td>Yuvraj Singh</td>\n",
              "      <td>Rajiv Gandhi International Stadium, Uppal</td>\n",
              "      <td>AY Dandekar</td>\n",
              "      <td>NJ Llong</td>\n",
              "      <td>Unknown</td>\n",
              "      <td>2017</td>\n",
              "      <td>4</td>\n",
              "    </tr>\n",
              "    <tr>\n",
              "      <th>1</th>\n",
              "      <td>2</td>\n",
              "      <td>2017</td>\n",
              "      <td>Pune</td>\n",
              "      <td>2017-04-06</td>\n",
              "      <td>Mumbai Indians</td>\n",
              "      <td>Rising Pune Supergiant</td>\n",
              "      <td>Rising Pune Supergiant</td>\n",
              "      <td>field</td>\n",
              "      <td>normal</td>\n",
              "      <td>0</td>\n",
              "      <td>Rising Pune Supergiant</td>\n",
              "      <td>0</td>\n",
              "      <td>7</td>\n",
              "      <td>SPD Smith</td>\n",
              "      <td>Maharashtra Cricket Association Stadium</td>\n",
              "      <td>A Nand Kishore</td>\n",
              "      <td>S Ravi</td>\n",
              "      <td>Unknown</td>\n",
              "      <td>2017</td>\n",
              "      <td>4</td>\n",
              "    </tr>\n",
              "    <tr>\n",
              "      <th>2</th>\n",
              "      <td>3</td>\n",
              "      <td>2017</td>\n",
              "      <td>Rajkot</td>\n",
              "      <td>2017-04-07</td>\n",
              "      <td>Gujarat Lions</td>\n",
              "      <td>Kolkata Knight Riders</td>\n",
              "      <td>Kolkata Knight Riders</td>\n",
              "      <td>field</td>\n",
              "      <td>normal</td>\n",
              "      <td>0</td>\n",
              "      <td>Kolkata Knight Riders</td>\n",
              "      <td>0</td>\n",
              "      <td>10</td>\n",
              "      <td>CA Lynn</td>\n",
              "      <td>Saurashtra Cricket Association Stadium</td>\n",
              "      <td>Nitin Menon</td>\n",
              "      <td>CK Nandan</td>\n",
              "      <td>Unknown</td>\n",
              "      <td>2017</td>\n",
              "      <td>4</td>\n",
              "    </tr>\n",
              "    <tr>\n",
              "      <th>3</th>\n",
              "      <td>4</td>\n",
              "      <td>2017</td>\n",
              "      <td>Indore</td>\n",
              "      <td>2017-04-08</td>\n",
              "      <td>Rising Pune Supergiant</td>\n",
              "      <td>Kings XI Punjab</td>\n",
              "      <td>Kings XI Punjab</td>\n",
              "      <td>field</td>\n",
              "      <td>normal</td>\n",
              "      <td>0</td>\n",
              "      <td>Kings XI Punjab</td>\n",
              "      <td>0</td>\n",
              "      <td>6</td>\n",
              "      <td>GJ Maxwell</td>\n",
              "      <td>Holkar Cricket Stadium</td>\n",
              "      <td>AK Chaudhary</td>\n",
              "      <td>C Shamshuddin</td>\n",
              "      <td>Unknown</td>\n",
              "      <td>2017</td>\n",
              "      <td>4</td>\n",
              "    </tr>\n",
              "    <tr>\n",
              "      <th>5</th>\n",
              "      <td>6</td>\n",
              "      <td>2017</td>\n",
              "      <td>Hyderabad</td>\n",
              "      <td>2017-04-09</td>\n",
              "      <td>Gujarat Lions</td>\n",
              "      <td>Sunrisers Hyderabad</td>\n",
              "      <td>Sunrisers Hyderabad</td>\n",
              "      <td>field</td>\n",
              "      <td>normal</td>\n",
              "      <td>0</td>\n",
              "      <td>Sunrisers Hyderabad</td>\n",
              "      <td>0</td>\n",
              "      <td>9</td>\n",
              "      <td>Rashid Khan</td>\n",
              "      <td>Rajiv Gandhi International Stadium, Uppal</td>\n",
              "      <td>A Deshmukh</td>\n",
              "      <td>NJ Llong</td>\n",
              "      <td>Unknown</td>\n",
              "      <td>2017</td>\n",
              "      <td>4</td>\n",
              "    </tr>\n",
              "  </tbody>\n",
              "</table>\n",
              "</div>"
            ],
            "text/plain": [
              "   id  season       city       date  ...        umpire2  umpire3  Year Month\n",
              "0   1    2017  Hyderabad 2017-04-05  ...       NJ Llong  Unknown  2017     4\n",
              "1   2    2017       Pune 2017-04-06  ...         S Ravi  Unknown  2017     4\n",
              "2   3    2017     Rajkot 2017-04-07  ...      CK Nandan  Unknown  2017     4\n",
              "3   4    2017     Indore 2017-04-08  ...  C Shamshuddin  Unknown  2017     4\n",
              "5   6    2017  Hyderabad 2017-04-09  ...       NJ Llong  Unknown  2017     4\n",
              "\n",
              "[5 rows x 20 columns]"
            ]
          },
          "metadata": {
            "tags": []
          },
          "execution_count": 8
        }
      ]
    },
    {
      "cell_type": "code",
      "metadata": {
        "id": "RR-_1NTWqf94"
      },
      "source": [
        "df.insert(loc=20, column='Day', value=(df.date.dt.dayofweek)+1)"
      ],
      "execution_count": 9,
      "outputs": []
    },
    {
      "cell_type": "code",
      "metadata": {
        "colab": {
          "base_uri": "https://localhost:8080/"
        },
        "id": "yATFqmrGqpon",
        "outputId": "a4629bc9-8217-4861-a303-caf22dea0d03"
      },
      "source": [
        "df['winner'].sort_values().value_counts()"
      ],
      "execution_count": 10,
      "outputs": [
        {
          "output_type": "execute_result",
          "data": {
            "text/plain": [
              "Mumbai Indians                 109\n",
              "Chennai Super Kings             98\n",
              "Kolkata Knight Riders           92\n",
              "Royal Challengers Bangalore     82\n",
              "Kings XI Punjab                 81\n",
              "Rajasthan Royals                75\n",
              "Delhi Daredevils                66\n",
              "Sunrisers Hyderabad             56\n",
              "Deccan Chargers                 29\n",
              "Gujarat Lions                   13\n",
              "Pune Warriors                   12\n",
              "Rising Pune Supergiant          10\n",
              "Delhi Capitals                   9\n",
              "Kochi Tuskers Kerala             6\n",
              "Rising Pune Supergiants          5\n",
              "Name: winner, dtype: int64"
            ]
          },
          "metadata": {
            "tags": []
          },
          "execution_count": 10
        }
      ]
    },
    {
      "cell_type": "markdown",
      "metadata": {
        "id": "seEH7KHzsLem"
      },
      "source": [
        "From above we can see that 'Rising Pune Supergiant' is repeated as 'Rising Pune Supergiants', so we will replace the values"
      ]
    },
    {
      "cell_type": "code",
      "metadata": {
        "id": "fMWvSk3-sMmz"
      },
      "source": [
        "df.loc[df['winner'] == 'Rising Pune Supergiants', 'winner'] = 'Rising Pune Supergiant'\n",
        "#But we have to replace in other series as well like 'team1', 'team2',etc.\n",
        "df[['team1','team2','toss_winner','winner']] = df[['team1','team2','toss_winner','winner']].apply(lambda val : val.str.replace('Rising Pune Supergiants','Rising Pune Supergiant') )"
      ],
      "execution_count": 11,
      "outputs": []
    },
    {
      "cell_type": "markdown",
      "metadata": {
        "id": "I_dJqzjnsZ17"
      },
      "source": [
        "**Exploratory Data Analysis**"
      ]
    },
    {
      "cell_type": "code",
      "metadata": {
        "colab": {
          "base_uri": "https://localhost:8080/"
        },
        "id": "nkO5GR_Cscmg",
        "outputId": "df282785-3331-4222-b0f1-0948bbfeb0e6"
      },
      "source": [
        "print(len(df['season'].unique()))\n",
        "print(df['season'].unique())"
      ],
      "execution_count": 12,
      "outputs": [
        {
          "output_type": "stream",
          "text": [
            "12\n",
            "[2017 2008 2009 2010 2011 2012 2013 2014 2015 2016 2018 2019]\n"
          ],
          "name": "stdout"
        }
      ]
    },
    {
      "cell_type": "markdown",
      "metadata": {
        "id": "ZoitiyFXskmp"
      },
      "source": [
        "The dataset carries data of 12 years from 2008 to 2019\n",
        "\n",
        "**Analysis based on cities**"
      ]
    },
    {
      "cell_type": "code",
      "metadata": {
        "colab": {
          "base_uri": "https://localhost:8080/"
        },
        "id": "BzKahr4qsoMY",
        "outputId": "f3805fc6-1a95-4df8-b664-3b2410f5c92c"
      },
      "source": [
        "city_host = df['city'].value_counts()\n",
        "city_host"
      ],
      "execution_count": 13,
      "outputs": [
        {
          "output_type": "execute_result",
          "data": {
            "text/plain": [
              "Mumbai            101\n",
              "Kolkata            77\n",
              "Delhi              73\n",
              "Hyderabad          64\n",
              "Bangalore          63\n",
              "Chennai            57\n",
              "Jaipur             47\n",
              "Chandigarh         46\n",
              "Pune               38\n",
              "Durban             15\n",
              "Bengaluru          13\n",
              "Centurion          12\n",
              "Ahmedabad          12\n",
              "Visakhapatnam      12\n",
              "Rajkot             10\n",
              "Mohali             10\n",
              "Dharamsala          9\n",
              "Indore              9\n",
              "Johannesburg        8\n",
              "Ranchi              7\n",
              "Abu Dhabi           7\n",
              "Port Elizabeth      7\n",
              "Cuttack             7\n",
              "Cape Town           7\n",
              "Raipur              6\n",
              "Sharjah             6\n",
              "Kochi               5\n",
              "Kanpur              4\n",
              "East London         3\n",
              "Kimberley           3\n",
              "Nagpur              3\n",
              "Bloemfontein        2\n",
              "Name: city, dtype: int64"
            ]
          },
          "metadata": {
            "tags": []
          },
          "execution_count": 13
        }
      ]
    },
    {
      "cell_type": "code",
      "metadata": {
        "colab": {
          "base_uri": "https://localhost:8080/",
          "height": 512
        },
        "id": "SrDCLTMSs5L6",
        "outputId": "b9118104-e9ff-4411-d179-bf3290679630"
      },
      "source": [
        "plt.figure(figsize=(10,6))\n",
        "plt.xticks(rotation=90)\n",
        "plt.title('Number of matches hosted')\n",
        "count=0\n",
        "cities=pd.DataFrame(city_host)\n",
        "cities['name']=city_host.index\n",
        "for i in cities['city']:\n",
        "    plt.text(count-0.4,i+1,str(i),color='black')\n",
        "    count+=1\n",
        "sns.barplot(city_host.index, city_host, palette='Pastel1');"
      ],
      "execution_count": 14,
      "outputs": [
        {
          "output_type": "stream",
          "text": [
            "/usr/local/lib/python3.7/dist-packages/seaborn/_decorators.py:43: FutureWarning: Pass the following variables as keyword args: x, y. From version 0.12, the only valid positional argument will be `data`, and passing other arguments without an explicit keyword will result in an error or misinterpretation.\n",
            "  FutureWarning\n"
          ],
          "name": "stderr"
        },
        {
          "output_type": "display_data",
          "data": {
            "image/png": "[encoded data removed]",
            "text/plain": [
              "<Figure size 720x432 with 1 Axes>"
            ]
          },
          "metadata": {
            "tags": [],
            "needs_background": "light"
          }
        }
      ]
    },
    {
      "cell_type": "markdown",
      "metadata": {
        "id": "GbZKMNYMs-mv"
      },
      "source": [
        "So, we can see in the barplot that Mumbai has hosted the maximum number of IPL matches followed by Kolkata and Delhi.\n",
        "\n",
        "**Analysis based on Teams**"
      ]
    },
    {
      "cell_type": "code",
      "metadata": {
        "colab": {
          "base_uri": "https://localhost:8080/",
          "height": 405
        },
        "id": "xuwu4xrItCl3",
        "outputId": "2ee231fd-c021-4c45-df23-f4b1cef82fc1"
      },
      "source": [
        "# Most successful team of ipl\n",
        "plt.figure(figsize=(10,6))\n",
        "data = df['winner'].value_counts()\n",
        "sns.barplot(y = data.index, x = data, palette='Pastel1' )"
      ],
      "execution_count": 15,
      "outputs": [
        {
          "output_type": "execute_result",
          "data": {
            "text/plain": [
              "<matplotlib.axes._subplots.AxesSubplot at 0x7f7d4a9d7590>"
            ]
          },
          "metadata": {
            "tags": []
          },
          "execution_count": 15
        },
        {
          "output_type": "display_data",
          "data": {
            "image/png": "[encoded data removed]",
            "text/plain": [
              "<Figure size 720x432 with 1 Axes>"
            ]
          },
          "metadata": {
            "tags": [],
            "needs_background": "light"
          }
        }
      ]
    },
    {
      "cell_type": "markdown",
      "metadata": {
        "id": "jRjdLT_FtMfD"
      },
      "source": [
        "From the above result, clearly, Mumbai Indians is the most successful team of ipl"
      ]
    },
    {
      "cell_type": "code",
      "metadata": {
        "colab": {
          "base_uri": "https://localhost:8080/"
        },
        "id": "sEB90wGTtPBC",
        "outputId": "712223da-aab3-4ade-e348-d3edcff03b7a"
      },
      "source": [
        "# Top 5 teams \n",
        "\n",
        "most_wins = df.groupby(by = ['winner'] )['city'].value_counts()\n",
        "most_wins.sort_values(ascending = False).head()"
      ],
      "execution_count": 16,
      "outputs": [
        {
          "output_type": "execute_result",
          "data": {
            "text/plain": [
              "winner                 city     \n",
              "Mumbai Indians         Mumbai       53\n",
              "Kolkata Knight Riders  Kolkata      45\n",
              "Chennai Super Kings    Chennai      40\n",
              "Rajasthan Royals       Jaipur       32\n",
              "Sunrisers Hyderabad    Hyderabad    30\n",
              "Name: city, dtype: int64"
            ]
          },
          "metadata": {
            "tags": []
          },
          "execution_count": 16
        }
      ]
    },
    {
      "cell_type": "markdown",
      "metadata": {
        "id": "KE2H86WttWv2"
      },
      "source": [
        "As we can see Mumbai Indians has secured the most wins in the past 12 years."
      ]
    },
    {
      "cell_type": "code",
      "metadata": {
        "colab": {
          "base_uri": "https://localhost:8080/"
        },
        "id": "7Tv2cqPptXuW",
        "outputId": "36bcf16b-3f11-4c77-cc71-678a1bb651a8"
      },
      "source": [
        "df['winner'].value_counts()"
      ],
      "execution_count": 17,
      "outputs": [
        {
          "output_type": "execute_result",
          "data": {
            "text/plain": [
              "Mumbai Indians                 109\n",
              "Chennai Super Kings             98\n",
              "Kolkata Knight Riders           92\n",
              "Royal Challengers Bangalore     82\n",
              "Kings XI Punjab                 81\n",
              "Rajasthan Royals                75\n",
              "Delhi Daredevils                66\n",
              "Sunrisers Hyderabad             56\n",
              "Deccan Chargers                 29\n",
              "Rising Pune Supergiant          15\n",
              "Gujarat Lions                   13\n",
              "Pune Warriors                   12\n",
              "Delhi Capitals                   9\n",
              "Kochi Tuskers Kerala             6\n",
              "Name: winner, dtype: int64"
            ]
          },
          "metadata": {
            "tags": []
          },
          "execution_count": 17
        }
      ]
    },
    {
      "cell_type": "code",
      "metadata": {
        "colab": {
          "base_uri": "https://localhost:8080/"
        },
        "id": "7Ke0f482tvrl",
        "outputId": "f7a39222-ace0-42ca-83f3-6829221b6627"
      },
      "source": [
        "df['dl_applied'].value_counts()[1]"
      ],
      "execution_count": 18,
      "outputs": [
        {
          "output_type": "execute_result",
          "data": {
            "text/plain": [
              "19"
            ]
          },
          "metadata": {
            "tags": []
          },
          "execution_count": 18
        }
      ]
    },
    {
      "cell_type": "code",
      "metadata": {
        "colab": {
          "base_uri": "https://localhost:8080/"
        },
        "id": "B8xmDn9Pt0ib",
        "outputId": "02d704c4-102a-458e-c022-101d6a1ff824"
      },
      "source": [
        "# wins per season \n",
        "\n",
        "wins_per_season = df.groupby('season')['winner'].value_counts()\n",
        "wins_per_season"
      ],
      "execution_count": 19,
      "outputs": [
        {
          "output_type": "execute_result",
          "data": {
            "text/plain": [
              "season  winner                     \n",
              "2008    Rajasthan Royals               13\n",
              "        Kings XI Punjab                10\n",
              "        Chennai Super Kings             9\n",
              "        Delhi Daredevils                7\n",
              "        Mumbai Indians                  7\n",
              "                                       ..\n",
              "2019    Kings XI Punjab                 6\n",
              "        Kolkata Knight Riders           6\n",
              "        Sunrisers Hyderabad             6\n",
              "        Rajasthan Royals                5\n",
              "        Royal Challengers Bangalore     5\n",
              "Name: winner, Length: 100, dtype: int64"
            ]
          },
          "metadata": {
            "tags": []
          },
          "execution_count": 19
        }
      ]
    },
    {
      "cell_type": "code",
      "metadata": {
        "colab": {
          "base_uri": "https://localhost:8080/"
        },
        "id": "CjnKZe3GuIvi",
        "outputId": "4be323f1-5f2b-470b-db53-6263523994f1"
      },
      "source": [
        "year = 2008\n",
        "wins_per_season_df = pd.DataFrame(columns=['year', 'Team', 'Wins'])\n",
        "for items in wins_per_season.iteritems():    \n",
        "    if items[0][0]==year:\n",
        "        print(items)\n",
        "        win_series = pd.DataFrame({\n",
        "            'year': [items[0][0]],\n",
        "            'Team': [items[0][1]],\n",
        "            'Wins': [items[1]]\n",
        "        })\n",
        "        wins_per_season_df = wins_per_season_df.append(win_series)\n",
        "        year += 1"
      ],
      "execution_count": 20,
      "outputs": [
        {
          "output_type": "stream",
          "text": [
            "((2008, 'Rajasthan Royals'), 13)\n",
            "((2009, 'Delhi Daredevils'), 10)\n",
            "((2010, 'Mumbai Indians'), 11)\n",
            "((2011, 'Chennai Super Kings'), 11)\n",
            "((2012, 'Kolkata Knight Riders'), 12)\n",
            "((2013, 'Mumbai Indians'), 13)\n",
            "((2014, 'Kings XI Punjab'), 11)\n",
            "((2015, 'Chennai Super Kings'), 10)\n",
            "((2016, 'Sunrisers Hyderabad'), 11)\n",
            "((2017, 'Mumbai Indians'), 12)\n",
            "((2018, 'Chennai Super Kings'), 11)\n",
            "((2019, 'Mumbai Indians'), 11)\n"
          ],
          "name": "stdout"
        }
      ]
    },
    {
      "cell_type": "markdown",
      "metadata": {
        "id": "l9et_P0WuNT-"
      },
      "source": [
        "This gives us the most wins by teams for each season of IPL"
      ]
    },
    {
      "cell_type": "code",
      "metadata": {
        "colab": {
          "base_uri": "https://localhost:8080/",
          "height": 462
        },
        "id": "ful3z75RuOQ7",
        "outputId": "b640cb90-c05d-4c7b-c993-84fce059e0a9"
      },
      "source": [
        "plt.figure(figsize=(12,6))\n",
        "plt.xticks(rotation=90)\n",
        "sns.barplot('Wins', 'Team', hue='year', data=wins_per_season_df, palette='Pastel1')"
      ],
      "execution_count": 21,
      "outputs": [
        {
          "output_type": "stream",
          "text": [
            "/usr/local/lib/python3.7/dist-packages/seaborn/_decorators.py:43: FutureWarning: Pass the following variables as keyword args: x, y. From version 0.12, the only valid positional argument will be `data`, and passing other arguments without an explicit keyword will result in an error or misinterpretation.\n",
            "  FutureWarning\n"
          ],
          "name": "stderr"
        },
        {
          "output_type": "execute_result",
          "data": {
            "text/plain": [
              "<matplotlib.axes._subplots.AxesSubplot at 0x7f7d4a3a6c10>"
            ]
          },
          "metadata": {
            "tags": []
          },
          "execution_count": 21
        },
        {
          "output_type": "display_data",
          "data": {
            "image/png": "[encoded data removed]",
            "text/plain": [
              "<Figure size 864x432 with 1 Axes>"
            ]
          },
          "metadata": {
            "tags": [],
            "needs_background": "light"
          }
        }
      ]
    },
    {
      "cell_type": "markdown",
      "metadata": {
        "id": "hzTgcj6WuZ0r"
      },
      "source": [
        "From the bar plot we can see that Mumbai Indians has secured the most wins in 2010,2013,2017 and 2019\n",
        "\n",
        "**Analysis based on Toss**"
      ]
    },
    {
      "cell_type": "code",
      "metadata": {
        "colab": {
          "base_uri": "https://localhost:8080/"
        },
        "id": "u5-hDixYucNc",
        "outputId": "37857aa0-61bf-4ab5-a5c6-ccfd16326110"
      },
      "source": [
        "df['toss_decision'].value_counts()"
      ],
      "execution_count": 22,
      "outputs": [
        {
          "output_type": "execute_result",
          "data": {
            "text/plain": [
              "field    455\n",
              "bat      288\n",
              "Name: toss_decision, dtype: int64"
            ]
          },
          "metadata": {
            "tags": []
          },
          "execution_count": 22
        }
      ]
    },
    {
      "cell_type": "code",
      "metadata": {
        "colab": {
          "base_uri": "https://localhost:8080/",
          "height": 309
        },
        "id": "ss8_AQe1uj5O",
        "outputId": "f1c07ad4-b5d5-40c1-fd3f-89be2d518c54"
      },
      "source": [
        "sns.countplot(x ='toss_decision', data = df ,color=(0.9, 0.2, 0.5, 0.2))\n",
        "plt.xticks(rotation = 90)"
      ],
      "execution_count": 23,
      "outputs": [
        {
          "output_type": "execute_result",
          "data": {
            "text/plain": [
              "(array([0, 1]), <a list of 2 Text major ticklabel objects>)"
            ]
          },
          "metadata": {
            "tags": []
          },
          "execution_count": 23
        },
        {
          "output_type": "display_data",
          "data": {
            "image/png": "[encoded data removed]",
            "text/plain": [
              "<Figure size 432x288 with 1 Axes>"
            ]
          },
          "metadata": {
            "tags": [],
            "needs_background": "light"
          }
        }
      ]
    },
    {
      "cell_type": "markdown",
      "metadata": {
        "id": "GbjjZoMgup65"
      },
      "source": [
        "From the above result, we can say that teams prefer to field first. As it is T-20 many teams prefer to chase the targets."
      ]
    },
    {
      "cell_type": "code",
      "metadata": {
        "id": "9QM-LaLTurEq"
      },
      "source": [
        "# Cases where toss winners won the match\n",
        "toss_win_match = df[(df['toss_winner'] == df['winner'])]"
      ],
      "execution_count": 24,
      "outputs": []
    },
    {
      "cell_type": "code",
      "metadata": {
        "id": "LRH4NBz_uz5w"
      },
      "source": [
        "# Cases where toss winners lost the match\n",
        "toss_win_lose_match = df[(df['toss_winner'] != df['winner'])]"
      ],
      "execution_count": 25,
      "outputs": []
    },
    {
      "cell_type": "code",
      "metadata": {
        "id": "Rczi1csmvAAW"
      },
      "source": [
        "toss_df = pd.DataFrame({\"Team won the toss\":[ toss_win_match.shape[0],toss_win_lose_match.shape[0]  ]}, index = ['Match won', 'Match Lost']  )"
      ],
      "execution_count": 26,
      "outputs": []
    },
    {
      "cell_type": "code",
      "metadata": {
        "colab": {
          "base_uri": "https://localhost:8080/",
          "height": 342
        },
        "id": "L15x3p33vBn_",
        "outputId": "f10d4545-8cc0-4568-954c-563f6158109c"
      },
      "source": [
        "toss_df.plot( kind = 'bar' , legend = False , title = \"Number of time a team won the toss and the match result of that match\", color=(0.9, 0.2, 0.5, 0.2))"
      ],
      "execution_count": 27,
      "outputs": [
        {
          "output_type": "execute_result",
          "data": {
            "text/plain": [
              "<matplotlib.axes._subplots.AxesSubplot at 0x7f7d4a124510>"
            ]
          },
          "metadata": {
            "tags": []
          },
          "execution_count": 27
        },
        {
          "output_type": "display_data",
          "data": {
            "image/png": "[encoded data removed]",
            "text/plain": [
              "<Figure size 432x288 with 1 Axes>"
            ]
          },
          "metadata": {
            "tags": [],
            "needs_background": "light"
          }
        }
      ]
    },
    {
      "cell_type": "markdown",
      "metadata": {
        "id": "zFkrthWPvPh9"
      },
      "source": [
        "We can see that there is no significant effect of toss winners on winning mathches, but we can see that the matches won are slightly higher than those lost."
      ]
    },
    {
      "cell_type": "code",
      "metadata": {
        "id": "sT6vfv-tvQdm"
      },
      "source": [
        "# Analysis based on the toss decision: bat or field\n",
        "\n",
        "batting_first_won = df.loc[(df['toss_winner'] == df['winner']) & (df['toss_decision'] == 'bat'), ['id', 'winner']]\n",
        "fielding_first_won = df.loc[(df['toss_winner'] == df['winner']) & (df['toss_decision'] == 'field'),  ['id', 'winner']]"
      ],
      "execution_count": 28,
      "outputs": []
    },
    {
      "cell_type": "code",
      "metadata": {
        "id": "_8ivKawYvVaQ"
      },
      "source": [
        "batting_first_won_df = batting_first_won['winner'].value_counts()\n",
        "fielding_first_won_df= fielding_first_won['winner'].value_counts()"
      ],
      "execution_count": 29,
      "outputs": []
    },
    {
      "cell_type": "code",
      "metadata": {
        "colab": {
          "base_uri": "https://localhost:8080/",
          "height": 432
        },
        "id": "qPdY1uVRvZ2T",
        "outputId": "4644a0e4-8160-40ae-d0cc-104d3650dfc3"
      },
      "source": [
        "batting_first_won_df.plot(kind = 'bar', title = 'Teams who won the toss, chose to bat and won the match',color=(0.9, 0.2, 0.5, 0.2))"
      ],
      "execution_count": 30,
      "outputs": [
        {
          "output_type": "execute_result",
          "data": {
            "text/plain": [
              "<matplotlib.axes._subplots.AxesSubplot at 0x7f7d4a10e9d0>"
            ]
          },
          "metadata": {
            "tags": []
          },
          "execution_count": 30
        },
        {
          "output_type": "display_data",
          "data": {
            "image/png": "[encoded data removed]",
            "text/plain": [
              "<Figure size 432x288 with 1 Axes>"
            ]
          },
          "metadata": {
            "tags": [],
            "needs_background": "light"
          }
        }
      ]
    },
    {
      "cell_type": "code",
      "metadata": {
        "colab": {
          "base_uri": "https://localhost:8080/",
          "height": 432
        },
        "id": "g86VFehjvj9J",
        "outputId": "4bd0520e-0bf2-4228-e450-b8dd5c18012d"
      },
      "source": [
        "fielding_first_won_df.plot(kind = 'bar', title = 'Teams who won the toss,chose to field and won the match', color=(0.9, 0.2, 0.5, 0.2))"
      ],
      "execution_count": 31,
      "outputs": [
        {
          "output_type": "execute_result",
          "data": {
            "text/plain": [
              "<matplotlib.axes._subplots.AxesSubplot at 0x7f7d4a039a90>"
            ]
          },
          "metadata": {
            "tags": []
          },
          "execution_count": 31
        },
        {
          "output_type": "display_data",
          "data": {
            "image/png": "[encoded data removed]",
            "text/plain": [
              "<Figure size 432x288 with 1 Axes>"
            ]
          },
          "metadata": {
            "tags": [],
            "needs_background": "light"
          }
        }
      ]
    },
    {
      "cell_type": "markdown",
      "metadata": {
        "id": "9S_ddtqEvojR"
      },
      "source": [
        "**Analysis based on Duckworth–Lewis method**"
      ]
    },
    {
      "cell_type": "code",
      "metadata": {
        "id": "61XdRtT1vq9p"
      },
      "source": [
        "# Creating a new dataframe which holds records of matches where decision was made using the Duckworth–Lewis method\n",
        "\n",
        "dl_data = df.loc[df['dl_applied'] != 0, ['id','season','Month','team1','team2','toss_winner','toss_decision','result','dl_applied','winner','venue']]"
      ],
      "execution_count": 32,
      "outputs": []
    },
    {
      "cell_type": "code",
      "metadata": {
        "colab": {
          "base_uri": "https://localhost:8080/"
        },
        "id": "MmVHkzGXvyrZ",
        "outputId": "3729d049-d5f2-4302-8b47-21a67d81ee16"
      },
      "source": [
        "dl_data['venue'].value_counts()"
      ],
      "execution_count": 33,
      "outputs": [
        {
          "output_type": "execute_result",
          "data": {
            "text/plain": [
              "Eden Gardens                                           4\n",
              "Feroz Shah Kotla                                       3\n",
              "M Chinnaswamy Stadium                                  3\n",
              "Rajiv Gandhi International Stadium, Uppal              2\n",
              "Dr. Y.S. Rajasekhara Reddy ACA-VDCA Cricket Stadium    2\n",
              "Sawai Mansingh Stadium                                 1\n",
              "SuperSport Park                                        1\n",
              "Newlands                                               1\n",
              "Nehru Stadium                                          1\n",
              "Kingsmead                                              1\n",
              "Name: venue, dtype: int64"
            ]
          },
          "metadata": {
            "tags": []
          },
          "execution_count": 33
        }
      ]
    },
    {
      "cell_type": "markdown",
      "metadata": {
        "id": "RzxgElRiv0ch"
      },
      "source": [
        "We can see that the Duckworth–Lewis method was applied most in Eden Gardens which can mean that it rained the most in Kolkata"
      ]
    },
    {
      "cell_type": "code",
      "metadata": {
        "colab": {
          "base_uri": "https://localhost:8080/"
        },
        "id": "2kQAcn7cv39_",
        "outputId": "f15335aa-5d5e-4c39-e679-0d8c9d4c30aa"
      },
      "source": [
        "dl_data['toss_decision'].value_counts()"
      ],
      "execution_count": 34,
      "outputs": [
        {
          "output_type": "execute_result",
          "data": {
            "text/plain": [
              "field    13\n",
              "bat       6\n",
              "Name: toss_decision, dtype: int64"
            ]
          },
          "metadata": {
            "tags": []
          },
          "execution_count": 34
        }
      ]
    },
    {
      "cell_type": "code",
      "metadata": {
        "colab": {
          "base_uri": "https://localhost:8080/",
          "height": 309
        },
        "id": "0EvsVwZwwCJd",
        "outputId": "c1dc263c-f850-4be5-a73f-b75036271d0e"
      },
      "source": [
        "sns.countplot(x ='toss_decision', data = dl_data ,color=(0.9, 0.2, 0.5, 0.2))\n",
        "plt.xticks(rotation = 90)"
      ],
      "execution_count": 35,
      "outputs": [
        {
          "output_type": "execute_result",
          "data": {
            "text/plain": [
              "(array([0, 1]), <a list of 2 Text major ticklabel objects>)"
            ]
          },
          "metadata": {
            "tags": []
          },
          "execution_count": 35
        },
        {
          "output_type": "display_data",
          "data": {
            "image/png": "[encoded data removed]",
            "text/plain": [
              "<Figure size 432x288 with 1 Axes>"
            ]
          },
          "metadata": {
            "tags": [],
            "needs_background": "light"
          }
        }
      ]
    },
    {
      "cell_type": "markdown",
      "metadata": {
        "id": "eO3U_O0MwGyN"
      },
      "source": [
        "From the above result we can see that most teams chose to field on days when the Duckworth–Lewis method was applied to decide the winners. This could indicate that the captains must have had something in mind regarding the pitch, keeping in mind that it might rain on those days"
      ]
    },
    {
      "cell_type": "code",
      "metadata": {
        "colab": {
          "base_uri": "https://localhost:8080/"
        },
        "id": "zaQc2cgWwHtv",
        "outputId": "67db922d-f134-4317-c7c6-aee860f5448a"
      },
      "source": [
        "dl_wins = dl_data.groupby(by = 'toss_decision')['winner'].value_counts()\n",
        "dl_wins"
      ],
      "execution_count": 36,
      "outputs": [
        {
          "output_type": "execute_result",
          "data": {
            "text/plain": [
              "toss_decision  winner                     \n",
              "bat            Chennai Super Kings            2\n",
              "               Kolkata Knight Riders          2\n",
              "               Kings XI Punjab                1\n",
              "               Royal Challengers Bangalore    1\n",
              "field          Delhi Daredevils               2\n",
              "               Kolkata Knight Riders          2\n",
              "               Rising Pune Supergiant         2\n",
              "               Royal Challengers Bangalore    2\n",
              "               Sunrisers Hyderabad            2\n",
              "               Kings XI Punjab                1\n",
              "               Kochi Tuskers Kerala           1\n",
              "               Rajasthan Royals               1\n",
              "Name: winner, dtype: int64"
            ]
          },
          "metadata": {
            "tags": []
          },
          "execution_count": 36
        }
      ]
    },
    {
      "cell_type": "markdown",
      "metadata": {
        "id": "ZaaC0_lzwpYf"
      },
      "source": [
        "It is evident from the result above that more matches were won by the Duckworth–Lewis method when the toss decision was to field first\n",
        "\n",
        "**Analysis based on Player of the match**"
      ]
    },
    {
      "cell_type": "code",
      "metadata": {
        "colab": {
          "base_uri": "https://localhost:8080/"
        },
        "id": "bc-8Sj4hwrv-",
        "outputId": "753edea0-c696-42a4-f2ac-d8c8aa4f3bce"
      },
      "source": [
        "players = df.player_of_match.value_counts()\n",
        "players.head()"
      ],
      "execution_count": 37,
      "outputs": [
        {
          "output_type": "execute_result",
          "data": {
            "text/plain": [
              "CH Gayle          21\n",
              "AB de Villiers    20\n",
              "RG Sharma         17\n",
              "DA Warner         17\n",
              "MS Dhoni          17\n",
              "Name: player_of_match, dtype: int64"
            ]
          },
          "metadata": {
            "tags": []
          },
          "execution_count": 37
        }
      ]
    },
    {
      "cell_type": "code",
      "metadata": {
        "colab": {
          "base_uri": "https://localhost:8080/",
          "height": 354
        },
        "id": "hqWPVePcwyhX",
        "outputId": "b0bad046-695d-44b1-bed2-19ac7472656a"
      },
      "source": [
        "players[players >= 10 ].plot(kind = 'bar', title = 'Number of times a player got Man of the Match',color=(0.9, 0.2, 0.5, 0.2))"
      ],
      "execution_count": 38,
      "outputs": [
        {
          "output_type": "execute_result",
          "data": {
            "text/plain": [
              "<matplotlib.axes._subplots.AxesSubplot at 0x7f7d49f51c50>"
            ]
          },
          "metadata": {
            "tags": []
          },
          "execution_count": 38
        },
        {
          "output_type": "display_data",
          "data": {
            "image/png": "[encoded data removed]",
            "text/plain": [
              "<Figure size 432x288 with 1 Axes>"
            ]
          },
          "metadata": {
            "tags": [],
            "needs_background": "light"
          }
        }
      ]
    },
    {
      "cell_type": "markdown",
      "metadata": {
        "id": "K_QEzujKw7LQ"
      },
      "source": [
        "The above results show us that Chris Gayle and AB de Villiers are the players who were awarded player of the match most. This could mean that teams should try to invest on some of these players during the auction."
      ]
    },
    {
      "cell_type": "markdown",
      "metadata": {
        "id": "Zmgi1h9rxDmA"
      },
      "source": [
        "**Conclusion**\n",
        "\n",
        "Hence we can draw these conclusions:\n",
        "\n",
        "Mumbai has hosted the maximum number of IPL matches\n",
        "\n",
        "Mumbai Indians is the most successful team of ipl since it has secured the most number of wins on the past 12 years\n",
        "\n",
        "Teams prefer to field first. As it is T-20 many teams prefer to chase the targets.\n",
        "\n",
        "There is no significant effect of toss winners on winning mathches\n",
        "\n",
        "The Duckworth–Lewis method was applied most in Eden Gardens\n",
        "\n",
        "Chris Gayle and AB de Villiers are important players and teams should invest in them for advertisements and also for the benefit of the team."
      ]
    }
  ]
}