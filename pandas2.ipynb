{
  "nbformat": 4,
  "nbformat_minor": 0,
  "metadata": {
    "colab": {
      "name": "pandas2.ipynb",
      "provenance": [],
      "authorship_tag": "ABX9TyMi7Fy5KNgS1ZKePee9OW07",
      "include_colab_link": true
    },
    "kernelspec": {
      "name": "python3",
      "display_name": "Python 3"
    },
    "language_info": {
      "name": "python"
    }
  },
  "cells": [
    {
      "cell_type": "markdown",
      "metadata": {
        "id": "view-in-github",
        "colab_type": "text"
      },
      "source": [
        "<a href=\"https://colab.research.google.com/github/nandikonda-vishal21/data-analytics/blob/main/pandas2.ipynb\" target=\"_parent\"><img src=\"https://colab.research.google.com/assets/colab-badge.svg\" alt=\"Open In Colab\"/></a>"
      ]
    },
    {
      "cell_type": "code",
      "metadata": {
        "colab": {
          "base_uri": "https://localhost:8080/"
        },
        "id": "cmuKNhW4_zrg",
        "outputId": "fac94378-d7a4-4641-b3c7-78e2cda439d7"
      },
      "source": [
        "print(\"pandas2\")"
      ],
      "execution_count": 1,
      "outputs": [
        {
          "output_type": "stream",
          "text": [
            "pandas2\n"
          ],
          "name": "stdout"
        }
      ]
    },
    {
      "cell_type": "markdown",
      "metadata": {
        "id": "Q2rrLVMNAZO4"
      },
      "source": [
        "**2.b Cleaning Data**\n",
        "\n",
        "Before using the data for making predictions or using it for analysis, we first need to clean the data. By cleaning data, it means to detect and correct thr bad data"
      ]
    },
    {
      "cell_type": "markdown",
      "metadata": {
        "id": "hYAv_WSlAcQ4"
      },
      "source": [
        "**Dealing with NaN values:**\n",
        "\n",
        "As mentioned earlier, before we can begin training our learning algorithms with large datasets, we usually need to **clean the data first**. This means we need to have a method for detecting and correcting errors in our data.\n",
        "\n",
        "While any given dataset can have **many types of bad data**, such as outliers or incorrect values, the type of bad data we encounter almost always is missing values. As we saw earlier, Pandas assigns NaN values to missing data. In this lesson we will learn how to detect and deal with NaN values.\n",
        "\n",
        "**We will begin by creating a DataFrame with some NaN values in it.**"
      ]
    },
    {
      "cell_type": "code",
      "metadata": {
        "colab": {
          "base_uri": "https://localhost:8080/",
          "height": 136
        },
        "id": "ngvHSrNDAzZ9",
        "outputId": "77967517-60a4-4e8b-fb50-61376d341dae"
      },
      "source": [
        "import pandas as pd\n",
        "\n",
        "# We create a list of Python dictionaries\n",
        "items2 = [{'bikes': 20, 'pants': 30, 'watches': 35, 'shirts': 15, 'shoes':8, 'suits':45},\n",
        "{'watches': 10, 'glasses': 50, 'bikes': 15, 'pants':5, 'shirts': 2, 'shoes':5, 'suits':7},\n",
        "{'bikes': 20, 'pants': 30, 'watches': 35, 'glasses': 4, 'shoes':10}]\n",
        "\n",
        "# We create a DataFrame  and provide the row index\n",
        "store_items = pd.DataFrame(items2, index = ['store 1', 'store 2', 'store 3'])\n",
        "\n",
        "# We display the DataFrame\n",
        "store_items"
      ],
      "execution_count": 2,
      "outputs": [
        {
          "output_type": "execute_result",
          "data": {
            "text/html": [
              "<div>\n",
              "<style scoped>\n",
              "    .dataframe tbody tr th:only-of-type {\n",
              "        vertical-align: middle;\n",
              "    }\n",
              "\n",
              "    .dataframe tbody tr th {\n",
              "        vertical-align: top;\n",
              "    }\n",
              "\n",
              "    .dataframe thead th {\n",
              "        text-align: right;\n",
              "    }\n",
              "</style>\n",
              "<table border=\"1\" class=\"dataframe\">\n",
              "  <thead>\n",
              "    <tr style=\"text-align: right;\">\n",
              "      <th></th>\n",
              "      <th>bikes</th>\n",
              "      <th>pants</th>\n",
              "      <th>watches</th>\n",
              "      <th>shirts</th>\n",
              "      <th>shoes</th>\n",
              "      <th>suits</th>\n",
              "      <th>glasses</th>\n",
              "    </tr>\n",
              "  </thead>\n",
              "  <tbody>\n",
              "    <tr>\n",
              "      <th>store 1</th>\n",
              "      <td>20</td>\n",
              "      <td>30</td>\n",
              "      <td>35</td>\n",
              "      <td>15.0</td>\n",
              "      <td>8</td>\n",
              "      <td>45.0</td>\n",
              "      <td>NaN</td>\n",
              "    </tr>\n",
              "    <tr>\n",
              "      <th>store 2</th>\n",
              "      <td>15</td>\n",
              "      <td>5</td>\n",
              "      <td>10</td>\n",
              "      <td>2.0</td>\n",
              "      <td>5</td>\n",
              "      <td>7.0</td>\n",
              "      <td>50.0</td>\n",
              "    </tr>\n",
              "    <tr>\n",
              "      <th>store 3</th>\n",
              "      <td>20</td>\n",
              "      <td>30</td>\n",
              "      <td>35</td>\n",
              "      <td>NaN</td>\n",
              "      <td>10</td>\n",
              "      <td>NaN</td>\n",
              "      <td>4.0</td>\n",
              "    </tr>\n",
              "  </tbody>\n",
              "</table>\n",
              "</div>"
            ],
            "text/plain": [
              "         bikes  pants  watches  shirts  shoes  suits  glasses\n",
              "store 1     20     30       35    15.0      8   45.0      NaN\n",
              "store 2     15      5       10     2.0      5    7.0     50.0\n",
              "store 3     20     30       35     NaN     10    NaN      4.0"
            ]
          },
          "metadata": {
            "tags": []
          },
          "execution_count": 2
        }
      ]
    },
    {
      "cell_type": "markdown",
      "metadata": {
        "id": "Z7twF_K9A8JV"
      },
      "source": [
        "In cases where we load very large datasets into a DataFrame, possibly with millions of items, the number of NaN values is not easily visualized.\n",
        "\n",
        " For these cases, we can use a combination of methods to count the number of NaN values in our data. **The following example combines the .isnull() and the sum() methods to count the number of NaN value**s in our DataFrame"
      ]
    },
    {
      "cell_type": "code",
      "metadata": {
        "colab": {
          "base_uri": "https://localhost:8080/",
          "height": 136
        },
        "id": "cx07wUdpBGWH",
        "outputId": "afd022a3-f907-4dc8-9662-85aef3ce0677"
      },
      "source": [
        "store_items.isnull()"
      ],
      "execution_count": 3,
      "outputs": [
        {
          "output_type": "execute_result",
          "data": {
            "text/html": [
              "<div>\n",
              "<style scoped>\n",
              "    .dataframe tbody tr th:only-of-type {\n",
              "        vertical-align: middle;\n",
              "    }\n",
              "\n",
              "    .dataframe tbody tr th {\n",
              "        vertical-align: top;\n",
              "    }\n",
              "\n",
              "    .dataframe thead th {\n",
              "        text-align: right;\n",
              "    }\n",
              "</style>\n",
              "<table border=\"1\" class=\"dataframe\">\n",
              "  <thead>\n",
              "    <tr style=\"text-align: right;\">\n",
              "      <th></th>\n",
              "      <th>bikes</th>\n",
              "      <th>pants</th>\n",
              "      <th>watches</th>\n",
              "      <th>shirts</th>\n",
              "      <th>shoes</th>\n",
              "      <th>suits</th>\n",
              "      <th>glasses</th>\n",
              "    </tr>\n",
              "  </thead>\n",
              "  <tbody>\n",
              "    <tr>\n",
              "      <th>store 1</th>\n",
              "      <td>False</td>\n",
              "      <td>False</td>\n",
              "      <td>False</td>\n",
              "      <td>False</td>\n",
              "      <td>False</td>\n",
              "      <td>False</td>\n",
              "      <td>True</td>\n",
              "    </tr>\n",
              "    <tr>\n",
              "      <th>store 2</th>\n",
              "      <td>False</td>\n",
              "      <td>False</td>\n",
              "      <td>False</td>\n",
              "      <td>False</td>\n",
              "      <td>False</td>\n",
              "      <td>False</td>\n",
              "      <td>False</td>\n",
              "    </tr>\n",
              "    <tr>\n",
              "      <th>store 3</th>\n",
              "      <td>False</td>\n",
              "      <td>False</td>\n",
              "      <td>False</td>\n",
              "      <td>True</td>\n",
              "      <td>False</td>\n",
              "      <td>True</td>\n",
              "      <td>False</td>\n",
              "    </tr>\n",
              "  </tbody>\n",
              "</table>\n",
              "</div>"
            ],
            "text/plain": [
              "         bikes  pants  watches  shirts  shoes  suits  glasses\n",
              "store 1  False  False    False   False  False  False     True\n",
              "store 2  False  False    False   False  False  False    False\n",
              "store 3  False  False    False    True  False   True    False"
            ]
          },
          "metadata": {
            "tags": []
          },
          "execution_count": 3
        }
      ]
    },
    {
      "cell_type": "markdown",
      "metadata": {
        "id": "dbJ-HWKmBOPp"
      },
      "source": [
        "In Pandas, logical True values have numerical value 1 and logical False values have numerical value 0. Therefore, we can count the number of NaN values by counting the number of logical True values."
      ]
    },
    {
      "cell_type": "code",
      "metadata": {
        "colab": {
          "base_uri": "https://localhost:8080/"
        },
        "id": "JW7j1ZnYBQde",
        "outputId": "0cfebdfd-34be-4648-c396-f3f98398ee74"
      },
      "source": [
        "# We count the number of NaN values in the columns of store_items\n",
        "x =  store_items.isnull().sum()\n",
        "\n",
        "# We print x\n",
        "print('Number of NaN values in our DataFrame:', x)"
      ],
      "execution_count": 4,
      "outputs": [
        {
          "output_type": "stream",
          "text": [
            "Number of NaN values in our DataFrame: bikes      0\n",
            "pants      0\n",
            "watches    0\n",
            "shirts     1\n",
            "shoes      0\n",
            "suits      1\n",
            "glasses    1\n",
            "dtype: int64\n"
          ],
          "name": "stdout"
        }
      ]
    },
    {
      "cell_type": "markdown",
      "metadata": {
        "id": "x4jvokoOBaNI"
      },
      "source": [
        "In order to count the total number of logical True values we use the .sum() method twice. We have to use it twice because the first sum returns a Pandas Series with the sums of logical True values along columns, as we see below:"
      ]
    },
    {
      "cell_type": "code",
      "metadata": {
        "colab": {
          "base_uri": "https://localhost:8080/"
        },
        "id": "lz5Cr1ZsBbm9",
        "outputId": "cb3a44ce-fb4a-481b-88e5-0d8fe045510d"
      },
      "source": [
        "# We count the number of NaN values in store_items\n",
        "x =  store_items.isnull().sum().sum()\n",
        "\n",
        "# We print x\n",
        "print('Number of NaN values in our DataFrame:', x)"
      ],
      "execution_count": 5,
      "outputs": [
        {
          "output_type": "stream",
          "text": [
            "Number of NaN values in our DataFrame: 3\n"
          ],
          "name": "stdout"
        }
      ]
    },
    {
      "cell_type": "markdown",
      "metadata": {
        "id": "Lw5I3uRxBm_i"
      },
      "source": [
        "The second sum will then add up the 1s in the above Pandas Series.\n",
        "\n",
        "Instead of counting the number of NaN values we can also do the opposite, we can count the number of non-NaN values. We can do this by using the .**count()** method as shown below:"
      ]
    },
    {
      "cell_type": "code",
      "metadata": {
        "colab": {
          "base_uri": "https://localhost:8080/"
        },
        "id": "LQ6N2tBjBryj",
        "outputId": "f75bb4c9-1f7c-44f6-9644-8765db187226"
      },
      "source": [
        "# We print the number of non-NaN values in our DataFrame\n",
        "print()\n",
        "print('Number of non-NaN values in the columns of our DataFrame:\\n', \n",
        "        store_items.count())"
      ],
      "execution_count": 6,
      "outputs": [
        {
          "output_type": "stream",
          "text": [
            "\n",
            "Number of non-NaN values in the columns of our DataFrame:\n",
            " bikes      3\n",
            "pants      3\n",
            "watches    3\n",
            "shirts     2\n",
            "shoes      3\n",
            "suits      2\n",
            "glasses    2\n",
            "dtype: int64\n"
          ],
          "name": "stdout"
        }
      ]
    },
    {
      "cell_type": "markdown",
      "metadata": {
        "id": "RBWM9GyUBzxA"
      },
      "source": [
        "Now that we learned how to know if our dataset has any NaN values in it, the next step is to decide what to do with them. In general we have two options, we can either delete or replace the NaN values. In the following examples we will show you how to do both.\n",
        "\n",
        "We will start by learning how to eliminate rows or columns from our DataFrame that contain any NaN values. The .**dropna(axis)** method eliminates any **rows** with NaN values when **axis = 0** is used and will eliminate any **columns** with NaN values when a**xis = 1** is used. Let's see some examples"
      ]
    },
    {
      "cell_type": "code",
      "metadata": {
        "colab": {
          "base_uri": "https://localhost:8080/",
          "height": 77
        },
        "id": "PLQJiM9KCI8_",
        "outputId": "44e4d093-e8bc-4f8c-fd56-7f1f5a67729c"
      },
      "source": [
        "# We drop any rows with NaN values\n",
        "store_items.dropna(axis = 0)"
      ],
      "execution_count": 7,
      "outputs": [
        {
          "output_type": "execute_result",
          "data": {
            "text/html": [
              "<div>\n",
              "<style scoped>\n",
              "    .dataframe tbody tr th:only-of-type {\n",
              "        vertical-align: middle;\n",
              "    }\n",
              "\n",
              "    .dataframe tbody tr th {\n",
              "        vertical-align: top;\n",
              "    }\n",
              "\n",
              "    .dataframe thead th {\n",
              "        text-align: right;\n",
              "    }\n",
              "</style>\n",
              "<table border=\"1\" class=\"dataframe\">\n",
              "  <thead>\n",
              "    <tr style=\"text-align: right;\">\n",
              "      <th></th>\n",
              "      <th>bikes</th>\n",
              "      <th>pants</th>\n",
              "      <th>watches</th>\n",
              "      <th>shirts</th>\n",
              "      <th>shoes</th>\n",
              "      <th>suits</th>\n",
              "      <th>glasses</th>\n",
              "    </tr>\n",
              "  </thead>\n",
              "  <tbody>\n",
              "    <tr>\n",
              "      <th>store 2</th>\n",
              "      <td>15</td>\n",
              "      <td>5</td>\n",
              "      <td>10</td>\n",
              "      <td>2.0</td>\n",
              "      <td>5</td>\n",
              "      <td>7.0</td>\n",
              "      <td>50.0</td>\n",
              "    </tr>\n",
              "  </tbody>\n",
              "</table>\n",
              "</div>"
            ],
            "text/plain": [
              "         bikes  pants  watches  shirts  shoes  suits  glasses\n",
              "store 2     15      5       10     2.0      5    7.0     50.0"
            ]
          },
          "metadata": {
            "tags": []
          },
          "execution_count": 7
        }
      ]
    },
    {
      "cell_type": "code",
      "metadata": {
        "colab": {
          "base_uri": "https://localhost:8080/",
          "height": 136
        },
        "id": "wWoOuhUnCQ3T",
        "outputId": "f850c36f-95fa-43d2-bf03-972de85253c1"
      },
      "source": [
        "# We drop any columns with NaN values\n",
        "store_items.dropna(axis = 1)"
      ],
      "execution_count": 8,
      "outputs": [
        {
          "output_type": "execute_result",
          "data": {
            "text/html": [
              "<div>\n",
              "<style scoped>\n",
              "    .dataframe tbody tr th:only-of-type {\n",
              "        vertical-align: middle;\n",
              "    }\n",
              "\n",
              "    .dataframe tbody tr th {\n",
              "        vertical-align: top;\n",
              "    }\n",
              "\n",
              "    .dataframe thead th {\n",
              "        text-align: right;\n",
              "    }\n",
              "</style>\n",
              "<table border=\"1\" class=\"dataframe\">\n",
              "  <thead>\n",
              "    <tr style=\"text-align: right;\">\n",
              "      <th></th>\n",
              "      <th>bikes</th>\n",
              "      <th>pants</th>\n",
              "      <th>watches</th>\n",
              "      <th>shoes</th>\n",
              "    </tr>\n",
              "  </thead>\n",
              "  <tbody>\n",
              "    <tr>\n",
              "      <th>store 1</th>\n",
              "      <td>20</td>\n",
              "      <td>30</td>\n",
              "      <td>35</td>\n",
              "      <td>8</td>\n",
              "    </tr>\n",
              "    <tr>\n",
              "      <th>store 2</th>\n",
              "      <td>15</td>\n",
              "      <td>5</td>\n",
              "      <td>10</td>\n",
              "      <td>5</td>\n",
              "    </tr>\n",
              "    <tr>\n",
              "      <th>store 3</th>\n",
              "      <td>20</td>\n",
              "      <td>30</td>\n",
              "      <td>35</td>\n",
              "      <td>10</td>\n",
              "    </tr>\n",
              "  </tbody>\n",
              "</table>\n",
              "</div>"
            ],
            "text/plain": [
              "         bikes  pants  watches  shoes\n",
              "store 1     20     30       35      8\n",
              "store 2     15      5       10      5\n",
              "store 3     20     30       35     10"
            ]
          },
          "metadata": {
            "tags": []
          },
          "execution_count": 8
        }
      ]
    },
    {
      "cell_type": "markdown",
      "metadata": {
        "id": "IQOgfNY_CU9x"
      },
      "source": [
        "Notice that the **.dropna() method eliminates (drops)** the rows or columns with NaN values out of place. This means that the original DataFrame is not modified. You can always remove the desired rows or columns in place by setting the **keyword inplace = True** inside the dropna() function.\n",
        "\n",
        "Now, instead of eliminating NaN values, we can replace them with suitable values. We could choose for example to replace all NaN values with the value 0. We can do this by using the **.fillna()** method as shown below."
      ]
    },
    {
      "cell_type": "code",
      "metadata": {
        "colab": {
          "base_uri": "https://localhost:8080/",
          "height": 136
        },
        "id": "3OdG095oCcfN",
        "outputId": "38a61f88-2ff9-4354-cec9-1e9040b938c8"
      },
      "source": [
        "# We replace all NaN values with 0\n",
        "store_items.fillna(0)"
      ],
      "execution_count": 9,
      "outputs": [
        {
          "output_type": "execute_result",
          "data": {
            "text/html": [
              "<div>\n",
              "<style scoped>\n",
              "    .dataframe tbody tr th:only-of-type {\n",
              "        vertical-align: middle;\n",
              "    }\n",
              "\n",
              "    .dataframe tbody tr th {\n",
              "        vertical-align: top;\n",
              "    }\n",
              "\n",
              "    .dataframe thead th {\n",
              "        text-align: right;\n",
              "    }\n",
              "</style>\n",
              "<table border=\"1\" class=\"dataframe\">\n",
              "  <thead>\n",
              "    <tr style=\"text-align: right;\">\n",
              "      <th></th>\n",
              "      <th>bikes</th>\n",
              "      <th>pants</th>\n",
              "      <th>watches</th>\n",
              "      <th>shirts</th>\n",
              "      <th>shoes</th>\n",
              "      <th>suits</th>\n",
              "      <th>glasses</th>\n",
              "    </tr>\n",
              "  </thead>\n",
              "  <tbody>\n",
              "    <tr>\n",
              "      <th>store 1</th>\n",
              "      <td>20</td>\n",
              "      <td>30</td>\n",
              "      <td>35</td>\n",
              "      <td>15.0</td>\n",
              "      <td>8</td>\n",
              "      <td>45.0</td>\n",
              "      <td>0.0</td>\n",
              "    </tr>\n",
              "    <tr>\n",
              "      <th>store 2</th>\n",
              "      <td>15</td>\n",
              "      <td>5</td>\n",
              "      <td>10</td>\n",
              "      <td>2.0</td>\n",
              "      <td>5</td>\n",
              "      <td>7.0</td>\n",
              "      <td>50.0</td>\n",
              "    </tr>\n",
              "    <tr>\n",
              "      <th>store 3</th>\n",
              "      <td>20</td>\n",
              "      <td>30</td>\n",
              "      <td>35</td>\n",
              "      <td>0.0</td>\n",
              "      <td>10</td>\n",
              "      <td>0.0</td>\n",
              "      <td>4.0</td>\n",
              "    </tr>\n",
              "  </tbody>\n",
              "</table>\n",
              "</div>"
            ],
            "text/plain": [
              "         bikes  pants  watches  shirts  shoes  suits  glasses\n",
              "store 1     20     30       35    15.0      8   45.0      0.0\n",
              "store 2     15      5       10     2.0      5    7.0     50.0\n",
              "store 3     20     30       35     0.0     10    0.0      4.0"
            ]
          },
          "metadata": {
            "tags": []
          },
          "execution_count": 9
        }
      ]
    },
    {
      "cell_type": "markdown",
      "metadata": {
        "id": "-vnvce1SCmgT"
      },
      "source": [
        "We can also use the **.fillna()** method to replace NaN values with previous values in the DataFrame, this is known as forward filling. When replacing NaN values with forward filling, we can use previous values taken from columns or rows. The .**fillna(method = 'ffill', axis)** will use the forward filling (ffill) method to replace NaN values using the previous known value along the given axis. Let's see some examples:"
      ]
    },
    {
      "cell_type": "code",
      "metadata": {
        "colab": {
          "base_uri": "https://localhost:8080/",
          "height": 136
        },
        "id": "K81-mc4XCuZ-",
        "outputId": "c2359b93-e13f-4c21-f594-21c0eba2a90c"
      },
      "source": [
        "# We replace NaN values with the previous value in the column\n",
        "store_items.fillna(method = 'ffill', axis = 0)"
      ],
      "execution_count": 10,
      "outputs": [
        {
          "output_type": "execute_result",
          "data": {
            "text/html": [
              "<div>\n",
              "<style scoped>\n",
              "    .dataframe tbody tr th:only-of-type {\n",
              "        vertical-align: middle;\n",
              "    }\n",
              "\n",
              "    .dataframe tbody tr th {\n",
              "        vertical-align: top;\n",
              "    }\n",
              "\n",
              "    .dataframe thead th {\n",
              "        text-align: right;\n",
              "    }\n",
              "</style>\n",
              "<table border=\"1\" class=\"dataframe\">\n",
              "  <thead>\n",
              "    <tr style=\"text-align: right;\">\n",
              "      <th></th>\n",
              "      <th>bikes</th>\n",
              "      <th>pants</th>\n",
              "      <th>watches</th>\n",
              "      <th>shirts</th>\n",
              "      <th>shoes</th>\n",
              "      <th>suits</th>\n",
              "      <th>glasses</th>\n",
              "    </tr>\n",
              "  </thead>\n",
              "  <tbody>\n",
              "    <tr>\n",
              "      <th>store 1</th>\n",
              "      <td>20</td>\n",
              "      <td>30</td>\n",
              "      <td>35</td>\n",
              "      <td>15.0</td>\n",
              "      <td>8</td>\n",
              "      <td>45.0</td>\n",
              "      <td>NaN</td>\n",
              "    </tr>\n",
              "    <tr>\n",
              "      <th>store 2</th>\n",
              "      <td>15</td>\n",
              "      <td>5</td>\n",
              "      <td>10</td>\n",
              "      <td>2.0</td>\n",
              "      <td>5</td>\n",
              "      <td>7.0</td>\n",
              "      <td>50.0</td>\n",
              "    </tr>\n",
              "    <tr>\n",
              "      <th>store 3</th>\n",
              "      <td>20</td>\n",
              "      <td>30</td>\n",
              "      <td>35</td>\n",
              "      <td>2.0</td>\n",
              "      <td>10</td>\n",
              "      <td>7.0</td>\n",
              "      <td>4.0</td>\n",
              "    </tr>\n",
              "  </tbody>\n",
              "</table>\n",
              "</div>"
            ],
            "text/plain": [
              "         bikes  pants  watches  shirts  shoes  suits  glasses\n",
              "store 1     20     30       35    15.0      8   45.0      NaN\n",
              "store 2     15      5       10     2.0      5    7.0     50.0\n",
              "store 3     20     30       35     2.0     10    7.0      4.0"
            ]
          },
          "metadata": {
            "tags": []
          },
          "execution_count": 10
        }
      ]
    },
    {
      "cell_type": "markdown",
      "metadata": {
        "id": "WiBEIY_iC3tP"
      },
      "source": [
        "Notice that the NaN value in store 1 didn't get replaced. That's because there are no previous values in this column, since the NaN value is the first value in that column. However, if we do forward fill using the previous row values, this won't happen. Let's take a look:"
      ]
    },
    {
      "cell_type": "code",
      "metadata": {
        "colab": {
          "base_uri": "https://localhost:8080/",
          "height": 136
        },
        "id": "o4KykoNWC5Gm",
        "outputId": "b15ca883-3720-45df-c3b1-45b3cc7513c3"
      },
      "source": [
        "# We replace NaN values with the previous value in the row\n",
        "store_items.fillna(method = 'ffill', axis = 1)"
      ],
      "execution_count": 11,
      "outputs": [
        {
          "output_type": "execute_result",
          "data": {
            "text/html": [
              "<div>\n",
              "<style scoped>\n",
              "    .dataframe tbody tr th:only-of-type {\n",
              "        vertical-align: middle;\n",
              "    }\n",
              "\n",
              "    .dataframe tbody tr th {\n",
              "        vertical-align: top;\n",
              "    }\n",
              "\n",
              "    .dataframe thead th {\n",
              "        text-align: right;\n",
              "    }\n",
              "</style>\n",
              "<table border=\"1\" class=\"dataframe\">\n",
              "  <thead>\n",
              "    <tr style=\"text-align: right;\">\n",
              "      <th></th>\n",
              "      <th>bikes</th>\n",
              "      <th>pants</th>\n",
              "      <th>watches</th>\n",
              "      <th>shirts</th>\n",
              "      <th>shoes</th>\n",
              "      <th>suits</th>\n",
              "      <th>glasses</th>\n",
              "    </tr>\n",
              "  </thead>\n",
              "  <tbody>\n",
              "    <tr>\n",
              "      <th>store 1</th>\n",
              "      <td>20.0</td>\n",
              "      <td>30.0</td>\n",
              "      <td>35.0</td>\n",
              "      <td>15.0</td>\n",
              "      <td>8.0</td>\n",
              "      <td>45.0</td>\n",
              "      <td>45.0</td>\n",
              "    </tr>\n",
              "    <tr>\n",
              "      <th>store 2</th>\n",
              "      <td>15.0</td>\n",
              "      <td>5.0</td>\n",
              "      <td>10.0</td>\n",
              "      <td>2.0</td>\n",
              "      <td>5.0</td>\n",
              "      <td>7.0</td>\n",
              "      <td>50.0</td>\n",
              "    </tr>\n",
              "    <tr>\n",
              "      <th>store 3</th>\n",
              "      <td>20.0</td>\n",
              "      <td>30.0</td>\n",
              "      <td>35.0</td>\n",
              "      <td>35.0</td>\n",
              "      <td>10.0</td>\n",
              "      <td>10.0</td>\n",
              "      <td>4.0</td>\n",
              "    </tr>\n",
              "  </tbody>\n",
              "</table>\n",
              "</div>"
            ],
            "text/plain": [
              "         bikes  pants  watches  shirts  shoes  suits  glasses\n",
              "store 1   20.0   30.0     35.0    15.0    8.0   45.0     45.0\n",
              "store 2   15.0    5.0     10.0     2.0    5.0    7.0     50.0\n",
              "store 3   20.0   30.0     35.0    35.0   10.0   10.0      4.0"
            ]
          },
          "metadata": {
            "tags": []
          },
          "execution_count": 11
        }
      ]
    },
    {
      "cell_type": "markdown",
      "metadata": {
        "id": "GBTpmW1kDBys"
      },
      "source": [
        "We see that in this case all the NaN values have been replaced with the previous row values.\n",
        "\n",
        "Similarly, you can choose to replace the NaN values with the values that go after them in the DataFrame, **this is known as backward filling. The .fillna(method = 'backfill', axis)** will use the backward **filling (backfill)** method to replace NaN values using the next known value along the given axis. Just like with forward filling we can choose to use row or column values. Let's see some examples:"
      ]
    },
    {
      "cell_type": "code",
      "metadata": {
        "colab": {
          "base_uri": "https://localhost:8080/",
          "height": 136
        },
        "id": "HBp6X2NqDIE5",
        "outputId": "ff4d00be-5ee1-4ee8-fdb1-46e10a57fb76"
      },
      "source": [
        "# We replace NaN values with the next value in the column\n",
        "store_items.fillna(method = 'backfill', axis = 0)"
      ],
      "execution_count": 12,
      "outputs": [
        {
          "output_type": "execute_result",
          "data": {
            "text/html": [
              "<div>\n",
              "<style scoped>\n",
              "    .dataframe tbody tr th:only-of-type {\n",
              "        vertical-align: middle;\n",
              "    }\n",
              "\n",
              "    .dataframe tbody tr th {\n",
              "        vertical-align: top;\n",
              "    }\n",
              "\n",
              "    .dataframe thead th {\n",
              "        text-align: right;\n",
              "    }\n",
              "</style>\n",
              "<table border=\"1\" class=\"dataframe\">\n",
              "  <thead>\n",
              "    <tr style=\"text-align: right;\">\n",
              "      <th></th>\n",
              "      <th>bikes</th>\n",
              "      <th>pants</th>\n",
              "      <th>watches</th>\n",
              "      <th>shirts</th>\n",
              "      <th>shoes</th>\n",
              "      <th>suits</th>\n",
              "      <th>glasses</th>\n",
              "    </tr>\n",
              "  </thead>\n",
              "  <tbody>\n",
              "    <tr>\n",
              "      <th>store 1</th>\n",
              "      <td>20</td>\n",
              "      <td>30</td>\n",
              "      <td>35</td>\n",
              "      <td>15.0</td>\n",
              "      <td>8</td>\n",
              "      <td>45.0</td>\n",
              "      <td>50.0</td>\n",
              "    </tr>\n",
              "    <tr>\n",
              "      <th>store 2</th>\n",
              "      <td>15</td>\n",
              "      <td>5</td>\n",
              "      <td>10</td>\n",
              "      <td>2.0</td>\n",
              "      <td>5</td>\n",
              "      <td>7.0</td>\n",
              "      <td>50.0</td>\n",
              "    </tr>\n",
              "    <tr>\n",
              "      <th>store 3</th>\n",
              "      <td>20</td>\n",
              "      <td>30</td>\n",
              "      <td>35</td>\n",
              "      <td>NaN</td>\n",
              "      <td>10</td>\n",
              "      <td>NaN</td>\n",
              "      <td>4.0</td>\n",
              "    </tr>\n",
              "  </tbody>\n",
              "</table>\n",
              "</div>"
            ],
            "text/plain": [
              "         bikes  pants  watches  shirts  shoes  suits  glasses\n",
              "store 1     20     30       35    15.0      8   45.0     50.0\n",
              "store 2     15      5       10     2.0      5    7.0     50.0\n",
              "store 3     20     30       35     NaN     10    NaN      4.0"
            ]
          },
          "metadata": {
            "tags": []
          },
          "execution_count": 12
        }
      ]
    },
    {
      "cell_type": "code",
      "metadata": {
        "colab": {
          "base_uri": "https://localhost:8080/",
          "height": 136
        },
        "id": "ZDFEZAhHDZ91",
        "outputId": "7cb3d900-06aa-4ece-ff21-722b89a20ab5"
      },
      "source": [
        "# We replace NaN values with the next value in the row\n",
        "store_items.fillna(method = 'backfill', axis = 1)"
      ],
      "execution_count": 13,
      "outputs": [
        {
          "output_type": "execute_result",
          "data": {
            "text/html": [
              "<div>\n",
              "<style scoped>\n",
              "    .dataframe tbody tr th:only-of-type {\n",
              "        vertical-align: middle;\n",
              "    }\n",
              "\n",
              "    .dataframe tbody tr th {\n",
              "        vertical-align: top;\n",
              "    }\n",
              "\n",
              "    .dataframe thead th {\n",
              "        text-align: right;\n",
              "    }\n",
              "</style>\n",
              "<table border=\"1\" class=\"dataframe\">\n",
              "  <thead>\n",
              "    <tr style=\"text-align: right;\">\n",
              "      <th></th>\n",
              "      <th>bikes</th>\n",
              "      <th>pants</th>\n",
              "      <th>watches</th>\n",
              "      <th>shirts</th>\n",
              "      <th>shoes</th>\n",
              "      <th>suits</th>\n",
              "      <th>glasses</th>\n",
              "    </tr>\n",
              "  </thead>\n",
              "  <tbody>\n",
              "    <tr>\n",
              "      <th>store 1</th>\n",
              "      <td>20.0</td>\n",
              "      <td>30.0</td>\n",
              "      <td>35.0</td>\n",
              "      <td>15.0</td>\n",
              "      <td>8.0</td>\n",
              "      <td>45.0</td>\n",
              "      <td>NaN</td>\n",
              "    </tr>\n",
              "    <tr>\n",
              "      <th>store 2</th>\n",
              "      <td>15.0</td>\n",
              "      <td>5.0</td>\n",
              "      <td>10.0</td>\n",
              "      <td>2.0</td>\n",
              "      <td>5.0</td>\n",
              "      <td>7.0</td>\n",
              "      <td>50.0</td>\n",
              "    </tr>\n",
              "    <tr>\n",
              "      <th>store 3</th>\n",
              "      <td>20.0</td>\n",
              "      <td>30.0</td>\n",
              "      <td>35.0</td>\n",
              "      <td>10.0</td>\n",
              "      <td>10.0</td>\n",
              "      <td>4.0</td>\n",
              "      <td>4.0</td>\n",
              "    </tr>\n",
              "  </tbody>\n",
              "</table>\n",
              "</div>"
            ],
            "text/plain": [
              "         bikes  pants  watches  shirts  shoes  suits  glasses\n",
              "store 1   20.0   30.0     35.0    15.0    8.0   45.0      NaN\n",
              "store 2   15.0    5.0     10.0     2.0    5.0    7.0     50.0\n",
              "store 3   20.0   30.0     35.0    10.0   10.0    4.0      4.0"
            ]
          },
          "metadata": {
            "tags": []
          },
          "execution_count": 13
        }
      ]
    },
    {
      "cell_type": "markdown",
      "metadata": {
        "id": "VyDIRHlpDf0M"
      },
      "source": [
        "Notice that the .fillna() method replaces (fills) the NaN values out of place. This means that the original DataFrame is not modified. You can always replace the NaN values in place by setting the keyword inplace = True inside the fillna() function.\n",
        "\n",
        "We can also choose to replace NaN values by using different **interpolation** methods. For example, the .**interpolate(method = 'linear', axis)** method will use linear interpolation to replace NaN values using the values along the given axis. Let's see some examples:"
      ]
    },
    {
      "cell_type": "code",
      "metadata": {
        "colab": {
          "base_uri": "https://localhost:8080/",
          "height": 136
        },
        "id": "ngzy9XJQDnH_",
        "outputId": "a29230b9-36b3-4d8c-ca1d-1fe8d91b64f8"
      },
      "source": [
        "# We replace NaN values by using linear interpolation using column values\n",
        "store_items.interpolate(method = 'linear', axis = 0)"
      ],
      "execution_count": 14,
      "outputs": [
        {
          "output_type": "execute_result",
          "data": {
            "text/html": [
              "<div>\n",
              "<style scoped>\n",
              "    .dataframe tbody tr th:only-of-type {\n",
              "        vertical-align: middle;\n",
              "    }\n",
              "\n",
              "    .dataframe tbody tr th {\n",
              "        vertical-align: top;\n",
              "    }\n",
              "\n",
              "    .dataframe thead th {\n",
              "        text-align: right;\n",
              "    }\n",
              "</style>\n",
              "<table border=\"1\" class=\"dataframe\">\n",
              "  <thead>\n",
              "    <tr style=\"text-align: right;\">\n",
              "      <th></th>\n",
              "      <th>bikes</th>\n",
              "      <th>pants</th>\n",
              "      <th>watches</th>\n",
              "      <th>shirts</th>\n",
              "      <th>shoes</th>\n",
              "      <th>suits</th>\n",
              "      <th>glasses</th>\n",
              "    </tr>\n",
              "  </thead>\n",
              "  <tbody>\n",
              "    <tr>\n",
              "      <th>store 1</th>\n",
              "      <td>20</td>\n",
              "      <td>30</td>\n",
              "      <td>35</td>\n",
              "      <td>15.0</td>\n",
              "      <td>8</td>\n",
              "      <td>45.0</td>\n",
              "      <td>NaN</td>\n",
              "    </tr>\n",
              "    <tr>\n",
              "      <th>store 2</th>\n",
              "      <td>15</td>\n",
              "      <td>5</td>\n",
              "      <td>10</td>\n",
              "      <td>2.0</td>\n",
              "      <td>5</td>\n",
              "      <td>7.0</td>\n",
              "      <td>50.0</td>\n",
              "    </tr>\n",
              "    <tr>\n",
              "      <th>store 3</th>\n",
              "      <td>20</td>\n",
              "      <td>30</td>\n",
              "      <td>35</td>\n",
              "      <td>2.0</td>\n",
              "      <td>10</td>\n",
              "      <td>7.0</td>\n",
              "      <td>4.0</td>\n",
              "    </tr>\n",
              "  </tbody>\n",
              "</table>\n",
              "</div>"
            ],
            "text/plain": [
              "         bikes  pants  watches  shirts  shoes  suits  glasses\n",
              "store 1     20     30       35    15.0      8   45.0      NaN\n",
              "store 2     15      5       10     2.0      5    7.0     50.0\n",
              "store 3     20     30       35     2.0     10    7.0      4.0"
            ]
          },
          "metadata": {
            "tags": []
          },
          "execution_count": 14
        }
      ]
    },
    {
      "cell_type": "markdown",
      "metadata": {
        "id": "_mzqP-lqDupu"
      },
      "source": [
        "Notice that the two NaN values in store 3 have been replaced with linear interpolated values. However, notice that the NaN value in store 1 didn't get replaced. That's because the NaN value is the first value in that column, and since there is no data before it, the interpolation function can't calculate a value. Now, let's interpolate using row values instead:"
      ]
    },
    {
      "cell_type": "code",
      "metadata": {
        "colab": {
          "base_uri": "https://localhost:8080/",
          "height": 136
        },
        "id": "XgAgqA03DxPg",
        "outputId": "3cfaf26e-4995-4298-da5a-463069328855"
      },
      "source": [
        "# We replace NaN values by using linear interpolation using row values\n",
        "store_items.interpolate(method = 'linear', axis = 1)"
      ],
      "execution_count": 15,
      "outputs": [
        {
          "output_type": "execute_result",
          "data": {
            "text/html": [
              "<div>\n",
              "<style scoped>\n",
              "    .dataframe tbody tr th:only-of-type {\n",
              "        vertical-align: middle;\n",
              "    }\n",
              "\n",
              "    .dataframe tbody tr th {\n",
              "        vertical-align: top;\n",
              "    }\n",
              "\n",
              "    .dataframe thead th {\n",
              "        text-align: right;\n",
              "    }\n",
              "</style>\n",
              "<table border=\"1\" class=\"dataframe\">\n",
              "  <thead>\n",
              "    <tr style=\"text-align: right;\">\n",
              "      <th></th>\n",
              "      <th>bikes</th>\n",
              "      <th>pants</th>\n",
              "      <th>watches</th>\n",
              "      <th>shirts</th>\n",
              "      <th>shoes</th>\n",
              "      <th>suits</th>\n",
              "      <th>glasses</th>\n",
              "    </tr>\n",
              "  </thead>\n",
              "  <tbody>\n",
              "    <tr>\n",
              "      <th>store 1</th>\n",
              "      <td>20.0</td>\n",
              "      <td>30.0</td>\n",
              "      <td>35.0</td>\n",
              "      <td>15.0</td>\n",
              "      <td>8.0</td>\n",
              "      <td>45.0</td>\n",
              "      <td>45.0</td>\n",
              "    </tr>\n",
              "    <tr>\n",
              "      <th>store 2</th>\n",
              "      <td>15.0</td>\n",
              "      <td>5.0</td>\n",
              "      <td>10.0</td>\n",
              "      <td>2.0</td>\n",
              "      <td>5.0</td>\n",
              "      <td>7.0</td>\n",
              "      <td>50.0</td>\n",
              "    </tr>\n",
              "    <tr>\n",
              "      <th>store 3</th>\n",
              "      <td>20.0</td>\n",
              "      <td>30.0</td>\n",
              "      <td>35.0</td>\n",
              "      <td>22.5</td>\n",
              "      <td>10.0</td>\n",
              "      <td>7.0</td>\n",
              "      <td>4.0</td>\n",
              "    </tr>\n",
              "  </tbody>\n",
              "</table>\n",
              "</div>"
            ],
            "text/plain": [
              "         bikes  pants  watches  shirts  shoes  suits  glasses\n",
              "store 1   20.0   30.0     35.0    15.0    8.0   45.0     45.0\n",
              "store 2   15.0    5.0     10.0     2.0    5.0    7.0     50.0\n",
              "store 3   20.0   30.0     35.0    22.5   10.0    7.0      4.0"
            ]
          },
          "metadata": {
            "tags": []
          },
          "execution_count": 15
        }
      ]
    },
    {
      "cell_type": "markdown",
      "metadata": {
        "id": "DwKuztLcD73I"
      },
      "source": [
        "Just as with the other methods we saw, the .interpolate() method replaces NaN values out of place."
      ]
    },
    {
      "cell_type": "code",
      "metadata": {
        "id": "48KW0UGwD862"
      },
      "source": [
        ""
      ],
      "execution_count": null,
      "outputs": []
    }
  ]
}