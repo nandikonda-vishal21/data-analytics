{
  "nbformat": 4,
  "nbformat_minor": 0,
  "metadata": {
    "colab": {
      "name": "control_flow.ipynb",
      "provenance": [],
      "authorship_tag": "ABX9TyMyybgeMIsE1J9jSOFnoXPx",
      "include_colab_link": true
    },
    "kernelspec": {
      "name": "python3",
      "display_name": "Python 3"
    },
    "language_info": {
      "name": "python"
    }
  },
  "cells": [
    {
      "cell_type": "markdown",
      "metadata": {
        "id": "view-in-github",
        "colab_type": "text"
      },
      "source": [
        "<a href=\"https://colab.research.google.com/github/nandikonda-vishal21/data-analytics/blob/main/control_flow.ipynb\" target=\"_parent\"><img src=\"https://colab.research.google.com/assets/colab-badge.svg\" alt=\"Open In Colab\"/></a>"
      ]
    },
    {
      "cell_type": "code",
      "metadata": {
        "colab": {
          "base_uri": "https://localhost:8080/"
        },
        "id": "xxPF76oUcCcN",
        "outputId": "8c337d25-9968-490f-94dd-81e4cc082041"
      },
      "source": [
        "print(\"this is control flow\")"
      ],
      "execution_count": 1,
      "outputs": [
        {
          "output_type": "stream",
          "text": [
            "this is control flow\n"
          ],
          "name": "stdout"
        }
      ]
    },
    {
      "cell_type": "markdown",
      "metadata": {
        "id": "k6PsP4G1ctox"
      },
      "source": [
        "**Control Flow:**\n",
        "\n",
        "Welcome to this lesson on Control Flow! Control flow is the sequence in which your code is run helping you in decision making. Here, we'll learn about several tools in Python we can use to affect our code's control flow:\n",
        "\n",
        "\n",
        "\n",
        "Conditional Statements\n",
        "\n",
        "Boolean Expressions\n",
        "\n",
        "For and While Loops\n",
        "\n",
        "Break and Continue\n",
        "\n",
        "Zip and Enumerate\n",
        "\n",
        "List Comprehensions\n",
        "\n",
        "**Conditional If Statements:**\n",
        "Sometimes we need to run a line of code only if a particular condition is true. For example suppose that you have subscribed to a sharebike rental service.\n",
        "\n",
        "Lets look at its pay as you use billing system. The app contains a credit balance which then the user can use to rent the bikes.\n",
        "\n",
        "The customer can then setup a link to their bank account so that if their phone credit balance goes below a particular threshold amountm, in this case Rs.100, then Rs.500 in credit is then added from their bank account.\n",
        "\n",
        "this can be represented as in below:\n",
        "\n",
        "if bikeapp_balance < 100:\n",
        "\n",
        "  bikeapp_balance += 500\n",
        "  \n",
        "  bank_balance -= 500"
      ]
    },
    {
      "cell_type": "code",
      "metadata": {
        "colab": {
          "base_uri": "https://localhost:8080/"
        },
        "id": "mLa7POv7dKxp",
        "outputId": "a7a5a6db-4f75-4a14-9bb7-e8f2dbc2d75a"
      },
      "source": [
        "bikeapp_balance = 99\n",
        "bank_balance = 1000\n",
        "\n",
        "print(bikeapp_balance, bank_balance)\n",
        "\n",
        "if(bikeapp_balance<100):\n",
        "  bikeapp_balance += 500\n",
        "  bank_balance -= 500\n",
        "\n",
        "print(bikeapp_balance, bank_balance)"
      ],
      "execution_count": 2,
      "outputs": [
        {
          "output_type": "stream",
          "text": [
            "99 1000\n",
            "599 500\n"
          ],
          "name": "stdout"
        }
      ]
    },
    {
      "cell_type": "markdown",
      "metadata": {
        "id": "BesRfkuEdgFt"
      },
      "source": [
        "An **if statement** starts with the if keyword, followed by the condition to be checked, in this case bikeapp_balance < 100, and then a colon. The condition is specified in a boolean expression that evaluates to either **True or False**.\n",
        "\n",
        "\n",
        "After this line is an indented block of code to be executed if that condition is true.\n",
        "\n",
        " Here, the lines that increment bikeapp_balance and decrement bank_balance only execute if it is true that bikeapp_balance is less than 100. If not, the code in this if block is simply skipped.\n",
        "\n",
        "You have learned about Python's comparison operators (e.g. == and !=) and how they are different from assignment operators (e.g. =). In conditional statements, you want to use **comparison operators**.\n",
        "\n",
        " For example, you'd want to use if x == 5 rather than if x = 5. If your conditional statement is causing a syntax error or doing something unexpected, check whether you have written == or =!"
      ]
    },
    {
      "cell_type": "markdown",
      "metadata": {
        "id": "c5N6-5zGd7yP"
      },
      "source": [
        "**Conditional If Else Statements:**\n",
        "\n",
        "Else helps us to execute a diffrent block of code when a particular condition is not true or even for multiple other conditions diffrent from the if() condition.\n",
        "\n",
        "Lets see it in action using an example:"
      ]
    },
    {
      "cell_type": "code",
      "metadata": {
        "colab": {
          "base_uri": "https://localhost:8080/"
        },
        "id": "chXF2EQyeCVt",
        "outputId": "25c085c6-4b5d-4f54-cddf-495123db8232"
      },
      "source": [
        "n=4\n",
        "\n",
        "if (n%2 == 0):\n",
        "  print(\"Number \" + str(n) + \" is even.\")\n",
        "else:\n",
        "  print(\"Number \" + str(n) + \" is odd.\")"
      ],
      "execution_count": 3,
      "outputs": [
        {
          "output_type": "stream",
          "text": [
            "Number 4 is even.\n"
          ],
          "name": "stdout"
        }
      ]
    },
    {
      "cell_type": "markdown",
      "metadata": {
        "id": "xSEq3rpseVTK"
      },
      "source": [
        "if you have more than 2 possible cases then you can also use **elif()**.\n",
        "\n",
        " Lets look at an example:"
      ]
    },
    {
      "cell_type": "code",
      "metadata": {
        "colab": {
          "base_uri": "https://localhost:8080/"
        },
        "id": "PgMUUI1leaQH",
        "outputId": "8877033a-aca8-41a6-d963-f55da00bc154"
      },
      "source": [
        "season = 'fall'\n",
        "\n",
        "if season == 'spring':\n",
        "    print('plant the garden!')\n",
        "elif season == 'summer':\n",
        "    print('water the garden!')\n",
        "elif season == 'fall':\n",
        "    print('harvest the garden!')\n",
        "elif season == 'winter':\n",
        "    print('stay indoors!')\n",
        "else:\n",
        "    print('unrecognized season')"
      ],
      "execution_count": 4,
      "outputs": [
        {
          "output_type": "stream",
          "text": [
            "harvest the garden!\n"
          ],
          "name": "stdout"
        }
      ]
    },
    {
      "cell_type": "markdown",
      "metadata": {
        "id": "7Wvnxyd3eoox"
      },
      "source": [
        "**Summarize If, Elif, Else:**\n",
        "\n",
        "if: An if statement must always start with an if clause, which contains the first condition that is checked.\n",
        "\n",
        " If this evaluates to True, Python runs the code indented in this if block and then skips to the rest of the code after the if statement.\n",
        "\n",
        "**elif:** elif is short for \"else if.\" An elif clause is used to check for an additional condition if the conditions in the previous clauses in the if statement evaluate to False. As you can see in the example, you can have multiple elif blocks to handle different situations.\n",
        "\n",
        "**else:** Last is the else clause, which must come at the end of an if statement if used. This clause doesn't require a condition. The code in an else block is run if all conditions above that in the if statement evaluate to False."
      ]
    },
    {
      "cell_type": "markdown",
      "metadata": {
        "id": "ICssbdqKfHv6"
      },
      "source": [
        "**Complex Boolean Expressions:**\n",
        "\n",
        "If statements sometimes use more complicated boolean expressions for their conditions. They may contain multiple comparisons operators, logical operators, and even calculations. \n",
        "\n",
        "Examples:\n",
        "\n",
        "if 18.5 <= (weight / height**2) < 25:\n",
        "\n",
        "    print(\"BMI is considered 'normal'\")\n",
        "\n",
        "if is_raining and is_sunny:\n",
        "\n",
        "    print(\"Is there a rainbow?\")\n",
        "\n",
        "if (not unsubscribed) and (location == \"USA\" or location == \"IND\"):\n",
        "\n",
        "    print(\"send email\")\n",
        "    \n",
        "For really complicated conditions you might need to combine some ands, ors and nots together. Use parentheses if you need to make the combinations clear.\n",
        "\n",
        "However simple or complex, the condition in an if statement must be a boolean expression that evaluates to either True or False and it is this value that decides whether the indented block in an if statement executes or not."
      ]
    },
    {
      "cell_type": "markdown",
      "metadata": {
        "id": "ZkaYFU17fx-q"
      },
      "source": [
        "**Good and Bad Examples:**\n",
        "\n",
        "Here are some things to keep in mind while writing boolean expressions for your if statements.\n",
        "\n",
        "**1. Don't use True or False as conditions:**\n",
        "\n",
        "While \"True\" is a valid boolean expression, it's not useful as a condition since it always evaluates to True, so the indented code will always get run. Similarly, if False is not a condition you should use either - the statement following this if statement would never be executed.\n",
        "\n",
        "# Bad example\n",
        "if True:\n",
        "\n",
        "    print(\"This indented code will always get run.\")\n",
        "Similarly, it's useless to use any condition that you know will always evaluate to True, like this example above. A boolean variable can only be True or False, so either is_cold or not is_cold is always True, and the indented code will always be run.\n",
        "\n",
        "# Another bad example\n",
        "if is_cold or not is_cold:\n",
        "\n",
        "    print(\"This indented code will always get run.\")"
      ]
    },
    {
      "cell_type": "markdown",
      "metadata": {
        "id": "bKagUZYkgnKl"
      },
      "source": [
        "**2. Be careful writing expressions that use logical operators:**\n",
        "\n",
        "Logical operators and, or and not have specific meanings that aren't quite the same as their meanings in plain English. Make sure your boolean expressions are being evaluated the way you expect them to.\n",
        "\n",
        "# Bad example\n",
        "if weather == \"snow\" or \"rain\":\n",
        "\n",
        "    print(\"Wear boots!\")\n",
        "This code is valid in Python, but it is not a boolean expression, although it reads like one. The reason is that the expression to the right of the or operator, \"rain\", is not a boolean expression - it's a string! Later we'll discuss what happens when you use non-boolean-type objects in place of booleans."
      ]
    },
    {
      "cell_type": "markdown",
      "metadata": {
        "id": "Xg8ccppzgtQ8"
      },
      "source": [
        "**3. Don't compare a boolean variable with == True or == False:**\n",
        "\n",
        "This comparison isn’t necessary, since the boolean variable itself is a boolean expression.\n",
        "\n",
        "# Bad example\n",
        "if is_cold == True:\n",
        "\n",
        "    print(\"The weather is cold!\")\n",
        "This is a valid condition, but we can make the code more readable by using the variable itself as the condition instead, as below.\n",
        "\n",
        "# Good example\n",
        "if is_cold:\n",
        "\n",
        "    print(\"The weather is cold!\")\n",
        "If you want to check whether a boolean is False, you can use the not operator."
      ]
    },
    {
      "cell_type": "markdown",
      "metadata": {
        "id": "QKe56WaRg560"
      },
      "source": [
        "**Truth Value Testing:**\n",
        "\n",
        "If we use a non-boolean object as a condition in an if statement in place of the boolean expression, Like in the 2nd example above, Python will check for its truth value and use that to decide whether or not to run the indented code. By default, the truth value of an object in Python is considered True unless specified as False in the documentation.\n",
        "\n",
        "Here are most of the built-in objects that are considered False in Python:\n",
        "\n",
        "**constants defined to be false**: None and False\n",
        "\n",
        "**zero of any numeric type**: 0, 0.0, 0j, Decimal(0), Fraction(0, 1)\n",
        "\n",
        "**empty sequences and collections**: '' , \"\", (), [], {}, set(), range(0)"
      ]
    },
    {
      "cell_type": "code",
      "metadata": {
        "colab": {
          "base_uri": "https://localhost:8080/"
        },
        "id": "T8EAIKm9hdfO",
        "outputId": "aa450a23-82ff-457a-c744-5512309b3c30"
      },
      "source": [
        "errors = 3\n",
        "if errors:\n",
        "    print(\"You have {} errors to fix!\".format(errors))\n",
        "else:\n",
        "    print(\"No errors to fix!\")"
      ],
      "execution_count": 5,
      "outputs": [
        {
          "output_type": "stream",
          "text": [
            "You have 3 errors to fix!\n"
          ],
          "name": "stdout"
        }
      ]
    },
    {
      "cell_type": "markdown",
      "metadata": {
        "id": "MEOV_T9thot2"
      },
      "source": [
        "In this code, errors has the truth value True because it's a non-zero number, so the error message is printed. This is a nice, succinct way of writing an if statement."
      ]
    },
    {
      "cell_type": "markdown",
      "metadata": {
        "id": "awGZ4dtphvZu"
      },
      "source": [
        "**For Loops:**\n",
        "\n",
        "Python has two kinds of loops - for loops and while loops. A for loop is used to \"iterate\", or do something repeatedly, over an iterable.\n",
        "\n",
        "An iterable is an object that can return one of its elements at a time. This can include sequence types, such as strings, lists, and tuples, as well as non-sequence types, such as dictionaries and files.\n",
        "\n",
        "Example:"
      ]
    },
    {
      "cell_type": "code",
      "metadata": {
        "colab": {
          "base_uri": "https://localhost:8080/"
        },
        "id": "eDi254ZKh6Nc",
        "outputId": "cc8f7bf2-8ee4-4821-ec32-5a044b4bcde6"
      },
      "source": [
        "cities = ['new york city', 'mountain view', 'chicago', 'los angeles']\n",
        "for city in cities:\n",
        "    print(city)\n",
        "print(\"Done!\")"
      ],
      "execution_count": 6,
      "outputs": [
        {
          "output_type": "stream",
          "text": [
            "new york city\n",
            "mountain view\n",
            "chicago\n",
            "los angeles\n",
            "Done!\n"
          ],
          "name": "stdout"
        }
      ]
    },
    {
      "cell_type": "markdown",
      "metadata": {
        "id": "M4KOoQbCiKNZ"
      },
      "source": [
        "**Components of a for Loop:**\n",
        "\n",
        "1.The first line of the loop starts with the for keyword, which signals that this is a for loop\n",
        "\n",
        "2.Following that is city in cities, indicating city is the iteration variable, and cities is the iterable being looped over. In the first iteration of the loop, city gets the value of the first element in cities, which is “new york city”.\n",
        "\n",
        "3.The for loop heading line always ends with a colon :\n",
        "\n",
        "Following the for loop heading is an indented block of code, the body of the loop, to be executed in each iteration of this loop. There is only one line in the body of this loop - print(city).\n",
        "\n",
        "4.After the body of the loop has executed, we don't move on to the next line yet; we go back to the for heading line, where the iteration variable takes the value of the next element of the iterable. In the second iteration of the loop above, city takes the value of the next element in cities, which is \"mountain view\".\n",
        "\n",
        "5.This process repeats until the loop has iterated through all the elements of the iterable. Then, we move on to the line that follows the body of the loop - in this case, print(\"Done!\"). We can tell what the next line after the body of the loop is because it is unindented. Here is another reason why paying attention to your indentation is very important in Python!\n",
        "\n",
        "6.You can name iteration variables however you like. A common pattern is to give the iteration variable and iterable the same names, except the singular and plural versions respectively (e.g., 'city' and 'cities')."
      ]
    },
    {
      "cell_type": "markdown",
      "metadata": {
        "id": "nr6SJk7MjQRX"
      },
      "source": [
        "**Using the range() Function with for Loops:**\n",
        "\n",
        "**range()** is a built-in function used to create an iterable sequence of numbers. You will frequently use range() with a for loop to repeat an action a certain number of times, as in this example:"
      ]
    },
    {
      "cell_type": "code",
      "metadata": {
        "colab": {
          "base_uri": "https://localhost:8080/"
        },
        "id": "owQhwhHzjmac",
        "outputId": "82313e6e-7b7b-4a4b-da5a-99f1386e5ad8"
      },
      "source": [
        "for i in range(3):\n",
        "    print(\"Hello!\")"
      ],
      "execution_count": 7,
      "outputs": [
        {
          "output_type": "stream",
          "text": [
            "Hello!\n",
            "Hello!\n",
            "Hello!\n"
          ],
          "name": "stdout"
        }
      ]
    },
    {
      "cell_type": "markdown",
      "metadata": {
        "id": "8YrkqlPLj26u"
      },
      "source": [
        "**range(start=0, stop, step=1)**\n",
        "\n",
        "The **range()** function takes three integer arguments, the first and third of which are optional:\n",
        "\n",
        "The **'start'** argument is the first number of the sequence. If unspecified, 'start' defaults to 0.\n",
        "\n",
        "The **'stop'** argument is 1 more than the last number of the sequence. This argument must be specified.\n",
        "\n",
        "The '**step'** argument is the difference between each number in the sequence. If unspecified, 'step' defaults to 1.\n",
        "\n",
        "Notes on using range():\n",
        "\n",
        "If you specify one integer inside the parentheses withrange(), it's used as the value for 'stop,' and the defaults are used for the other two. Example-"
      ]
    },
    {
      "cell_type": "code",
      "metadata": {
        "colab": {
          "base_uri": "https://localhost:8080/"
        },
        "id": "QkhrYxo_kVm8",
        "outputId": "ae8f63a9-45e6-44c5-ef2a-412003dff786"
      },
      "source": [
        "for i in range(4):\n",
        "  print(i)"
      ],
      "execution_count": 8,
      "outputs": [
        {
          "output_type": "stream",
          "text": [
            "0\n",
            "1\n",
            "2\n",
            "3\n"
          ],
          "name": "stdout"
        }
      ]
    },
    {
      "cell_type": "markdown",
      "metadata": {
        "id": "eTBeulcOkiKw"
      },
      "source": [
        "If you specify two integers inside the parentheses withrange(), they're used for 'start' and 'stop,' and the default is used for 'step.' Example-"
      ]
    },
    {
      "cell_type": "code",
      "metadata": {
        "colab": {
          "base_uri": "https://localhost:8080/"
        },
        "id": "JWeZEGyMkpEn",
        "outputId": "abea7e14-c7fc-4366-8954-03bf3505d38a"
      },
      "source": [
        "for i in range(2, 6):\n",
        "  print(i)"
      ],
      "execution_count": 9,
      "outputs": [
        {
          "output_type": "stream",
          "text": [
            "2\n",
            "3\n",
            "4\n",
            "5\n"
          ],
          "name": "stdout"
        }
      ]
    },
    {
      "cell_type": "markdown",
      "metadata": {
        "id": "J5QOXjuhkvdv"
      },
      "source": [
        "Or you can specify all three integers for 'start', 'stop', and 'step.' Example-"
      ]
    },
    {
      "cell_type": "code",
      "metadata": {
        "colab": {
          "base_uri": "https://localhost:8080/"
        },
        "id": "z1hpx0ARkw5F",
        "outputId": "8cfedc44-6ac0-4a2d-f242-d7d9d5f00373"
      },
      "source": [
        "for i in range(1, 10, 2):\n",
        "  print(i)"
      ],
      "execution_count": 10,
      "outputs": [
        {
          "output_type": "stream",
          "text": [
            "1\n",
            "3\n",
            "5\n",
            "7\n",
            "9\n"
          ],
          "name": "stdout"
        }
      ]
    },
    {
      "cell_type": "markdown",
      "metadata": {
        "id": "1IwTpufHlC8E"
      },
      "source": [
        "**Creating and Modifying Lists:**\n",
        "\n",
        "In addition to extracting information from lists, as we did in the first example above, you can also create and modify lists with for loops. You can create a list by appending to a new list at each iteration of the for loop like this:"
      ]
    },
    {
      "cell_type": "code",
      "metadata": {
        "id": "2yQmdxBvlPMv"
      },
      "source": [
        "# Creating a new list\n",
        "cities = ['new york city', 'mountain view', 'chicago', 'los angeles']\n",
        "capitalized_cities = []\n",
        "\n",
        "for city in cities:\n",
        "    capitalized_cities.append(city.title())"
      ],
      "execution_count": 11,
      "outputs": []
    },
    {
      "cell_type": "code",
      "metadata": {
        "colab": {
          "base_uri": "https://localhost:8080/"
        },
        "id": "nBX6QT31lcuH",
        "outputId": "01e68f2c-179a-49f4-cb7b-773e7f5a6723"
      },
      "source": [
        "for cap_city in capitalized_cities:\n",
        "  print(cap_city)"
      ],
      "execution_count": 12,
      "outputs": [
        {
          "output_type": "stream",
          "text": [
            "New York City\n",
            "Mountain View\n",
            "Chicago\n",
            "Los Angeles\n"
          ],
          "name": "stdout"
        }
      ]
    },
    {
      "cell_type": "markdown",
      "metadata": {
        "id": "f5uBVmpKloEj"
      },
      "source": [
        "**Modifying** a list is a bit more involved, and requires the use of the range() function.\n",
        "\n",
        "We can use the **range()** function to generate the indices for each value in the cities list. This lets us access the elements of the list with cities[index] so that we can modify the values in the cities list in place."
      ]
    },
    {
      "cell_type": "code",
      "metadata": {
        "id": "wYOFA4ailw4y"
      },
      "source": [
        "cities = ['new york city', 'mountain view', 'chicago', 'los angeles']\n",
        "\n",
        "for index in range(len(cities)):\n",
        "    cities[index] = cities[index].title()"
      ],
      "execution_count": 13,
      "outputs": []
    },
    {
      "cell_type": "code",
      "metadata": {
        "colab": {
          "base_uri": "https://localhost:8080/"
        },
        "id": "G603PiGKl2i4",
        "outputId": "8b99a6d4-ecc7-4f2a-d96c-f2b55af4f07b"
      },
      "source": [
        "for city in cities:\n",
        "    print(city)"
      ],
      "execution_count": 14,
      "outputs": [
        {
          "output_type": "stream",
          "text": [
            "New York City\n",
            "Mountain View\n",
            "Chicago\n",
            "Los Angeles\n"
          ],
          "name": "stdout"
        }
      ]
    },
    {
      "cell_type": "markdown",
      "metadata": {
        "id": "KZa-9MXamAZv"
      },
      "source": [
        "**Iterating Through Dictionaries with For Loops:**\n",
        "\n",
        "\n",
        "When you iterate through a dictionary using a for loop, doing it the normal way (for n in some_dict) will only give you access to the keys in the dictionary - which is what you'd want in some situations.\n",
        "\n",
        "In other cases, you'd want to iterate through both the keys and values in the dictionary. Let's see how this is done in an example. Consider this dictionary that uses names of actors as keys and their characters as values."
      ]
    },
    {
      "cell_type": "code",
      "metadata": {
        "id": "9WRI6S7RmSwM"
      },
      "source": [
        "cast = {\n",
        "           \"Joey Tribbiani\": \"Joey Tribbiani\",\n",
        "           \"Monica Geller\": \"Chandler Bing\",\n",
        "           \"Phoebe Buffay\": \"Mike Hannigan\",\n",
        "           \"Ross Geller\": \"Rachel Green\"\n",
        "       }"
      ],
      "execution_count": 15,
      "outputs": []
    },
    {
      "cell_type": "markdown",
      "metadata": {
        "id": "cm3Dh9LCmeQT"
      },
      "source": [
        "Iterating through it in the usual way with a for loop would give you just the keys, as shown below:"
      ]
    },
    {
      "cell_type": "code",
      "metadata": {
        "colab": {
          "base_uri": "https://localhost:8080/"
        },
        "id": "6jbW2k9Hmfwn",
        "outputId": "1788810d-4d6e-40e6-83d5-1d701a53e398"
      },
      "source": [
        "for key in cast:\n",
        "    print(key)"
      ],
      "execution_count": 16,
      "outputs": [
        {
          "output_type": "stream",
          "text": [
            "Joey Tribbiani\n",
            "Monica Geller\n",
            "Phoebe Buffay\n",
            "Ross Geller\n"
          ],
          "name": "stdout"
        }
      ]
    },
    {
      "cell_type": "markdown",
      "metadata": {
        "id": "EeQfek4BmtF0"
      },
      "source": [
        "If you wish to iterate through both keys and values, you can use the built-in method items like this:"
      ]
    },
    {
      "cell_type": "code",
      "metadata": {
        "colab": {
          "base_uri": "https://localhost:8080/"
        },
        "id": "VwO1UfTtmue2",
        "outputId": "bf0a2540-16ac-43c9-ccb4-6f2fde9dbaf2"
      },
      "source": [
        "for key, value in cast.items():\n",
        "    print(\"Partner 1: {}    Partner 2: {}\".format(key, value))"
      ],
      "execution_count": 17,
      "outputs": [
        {
          "output_type": "stream",
          "text": [
            "Partner 1: Joey Tribbiani    Partner 2: Joey Tribbiani\n",
            "Partner 1: Monica Geller    Partner 2: Chandler Bing\n",
            "Partner 1: Phoebe Buffay    Partner 2: Mike Hannigan\n",
            "Partner 1: Ross Geller    Partner 2: Rachel Green\n"
          ],
          "name": "stdout"
        }
      ]
    },
    {
      "cell_type": "markdown",
      "metadata": {
        "id": "Cg4_gbWFm4Ge"
      },
      "source": [
        "items is an awesome method that returns tuples of key, value pairs, which you can use to iterate over dictionaries in for loops."
      ]
    },
    {
      "cell_type": "markdown",
      "metadata": {
        "id": "vbERI-nJm-9Z"
      },
      "source": [
        "**While Loops:**\n",
        "\n",
        "For loops are an example of definite iteration, meaning that the loops body is run a predefined no of times.\n",
        "\n",
        " A for loop over a list executes the body for each element in the list, a for loop using the range function will execute a no of times specified by the range function. This deffer from indefinite iteration ie.\n",
        " \n",
        "  when a loop repeats an unknown no of times, and ends when some condition is met. While loop is an example of indefinite iteration. Here is an example:"
      ]
    },
    {
      "cell_type": "code",
      "metadata": {
        "id": "o1_vEjp9nOvu"
      },
      "source": [
        "card_deck = [4, 11, 8, 5, 13, 2, 8, 10]\n",
        "hand = []\n",
        "\n",
        "# adds the last element of the card_deck list to the hand list\n",
        "# until the values in hand add up to 17 or more\n",
        "while sum(hand)  < 17:\n",
        "    hand.append(card_deck.pop())"
      ],
      "execution_count": 18,
      "outputs": []
    },
    {
      "cell_type": "code",
      "metadata": {
        "colab": {
          "base_uri": "https://localhost:8080/"
        },
        "id": "D_FlECoMnT5B",
        "outputId": "c2b77928-6762-4e3b-d72e-d5841abe4cf1"
      },
      "source": [
        "for card in hand:\n",
        "  print(card)"
      ],
      "execution_count": 19,
      "outputs": [
        {
          "output_type": "stream",
          "text": [
            "10\n",
            "8\n"
          ],
          "name": "stdout"
        }
      ]
    },
    {
      "cell_type": "markdown",
      "metadata": {
        "id": "vM6MCn05njbZ"
      },
      "source": [
        "**This example features two new functions.**\n",
        "\n",
        " sum returns the sum of the elements in a list, and pop is a list method that removes the last element from a list and returns it.\n",
        "\n",
        "**Components of a While Loop:**\n",
        "\n",
        "The first line starts with the while keyword, indicating this is a while loop.\n",
        "Following that is a condition to be checked. In this example, that's sum(hand) <= 17.\n",
        "\n",
        "**The while loop heading always ends with a colon :.**\n",
        "\n",
        "Indented after this heading is the body of the while loop. If the condition for the while loop is true, the code lines in the loop's body will be executed.\n",
        "We then go back to the while heading line, and the condition is evaluated again. This process of checking the condition and then executing the loop repeats until the condition becomes false.\n",
        "\n",
        "When the condition becomes false, we move on to the line following the body of the loop, which will be unindented.\n",
        "\n",
        "The indented body of the loop should modify at least one variable in the test condition. If the value of the test condition never changes, the result is an infinite loop!"
      ]
    },
    {
      "cell_type": "markdown",
      "metadata": {
        "id": "Jbbbp_pfppY6"
      },
      "source": [
        "**Break and Continue:**\n",
        "\n",
        "For Loop iterate over every element in a sequence, while loops iterate over every element untill stopping condition is met.\n",
        "\n",
        "This is sufficient for most purposes, but sometimes we need more precise control over when we need to end a loop.\n",
        "\n",
        "In these cases we use the break keyword."
      ]
    },
    {
      "cell_type": "code",
      "metadata": {
        "id": "aFMg1Zr8p1SG"
      },
      "source": [
        "manifest = [(\"bananas\", 15), (\"mattresses\", 24), (\"dog kennels\", 42), \n",
        "            (\"machine\", 120), (\"cheeses\", 5)]\n",
        "\n",
        "weight = 0\n",
        "items = []"
      ],
      "execution_count": 20,
      "outputs": []
    },
    {
      "cell_type": "code",
      "metadata": {
        "id": "kbcqRbYzp-9m"
      },
      "source": [
        "manifest = [(\"bananas\", 15), (\"mattresses\", 24), (\"dog kennels\", 42), \n",
        "            (\"machine\", 120), (\"cheeses\", 5)]\n",
        "\n",
        "weight = 0\n",
        "items = []"
      ],
      "execution_count": 21,
      "outputs": []
    },
    {
      "cell_type": "markdown",
      "metadata": {
        "id": "ZtH3C2tzqD1L"
      },
      "source": [
        "This brings us to our next statement sometimes there will be conditions where instead of breaking the loop we will like to skip one iteration of the loop. In this case we will use the **continue keyword**.\n",
        "\n",
        "break and continue keywords, which can be used in both for and while loops.\n",
        "\n",
        "break terminates a loop\n",
        "\n",
        "continue skips one iteration of a loop"
      ]
    },
    {
      "cell_type": "code",
      "metadata": {
        "colab": {
          "base_uri": "https://localhost:8080/"
        },
        "id": "eUmuYxQmqNzT",
        "outputId": "54021bfd-ff8e-4c6b-81b6-bcd8903bc1dc"
      },
      "source": [
        "fruits= [\"orange\", \"strawberry\", \"apple\"]\n",
        "foods = [\"apple\", \"apple\", \"burger\", \"toast\"]\n",
        "\n",
        "fruit_count = 0\n",
        "for food in foods:\n",
        "  if food not in fruits:\n",
        "    print(\"Not a fruit\")\n",
        "    continue\n",
        "  fruit_count += 1\n",
        "  print(\"Found a fruit!!\")\n",
        "\n",
        "print(\"Total fruits: \", fruit_count)"
      ],
      "execution_count": 22,
      "outputs": [
        {
          "output_type": "stream",
          "text": [
            "Found a fruit!!\n",
            "Found a fruit!!\n",
            "Not a fruit\n",
            "Not a fruit\n",
            "Total fruits:  2\n"
          ],
          "name": "stdout"
        }
      ]
    },
    {
      "cell_type": "code",
      "metadata": {
        "id": "fn3myBSpqU7i"
      },
      "source": [
        "manifest = [(\"bananas\", 15), (\"mattresses\", 24), (\"dog kennels\", 42), \n",
        "            (\"machine\", 120), (\"cheeses\", 5)]\n",
        "\n",
        "# skips an iteration when adding an item would exceed the limit\n",
        "# breaks the loop if weight is exactly the value of the limit\n",
        "\n",
        "weight = 0\n",
        "items = []"
      ],
      "execution_count": 23,
      "outputs": []
    },
    {
      "cell_type": "markdown",
      "metadata": {
        "id": "qCBK-25jq7_c"
      },
      "source": [
        "**Zip and Enumerate:**\n",
        "\n",
        "**zip and enumerate** are useful built-in functions that can come in handy when dealing with loops.\n",
        "\n",
        "**Zip:**\n",
        "zip returns an iterator that combines multiple iterables into one sequence of tuples. Each tuple contains the elements in that position from all the iterables. For example, printing\n",
        "\n",
        "manifest = [(\"bananas\", 15), (\"mattresses\", 24), (\"dog kennels\", 42), \n",
        "            (\"machine\", 120), (\"cheeses\", 5)]"
      ]
    },
    {
      "cell_type": "code",
      "metadata": {
        "colab": {
          "base_uri": "https://localhost:8080/"
        },
        "id": "hPj2FH3arMcs",
        "outputId": "ec374e37-f6f0-44ff-bf5d-af94a3773ff0"
      },
      "source": [
        "items = ['bananas', 'mattresses', 'dog kennels', 'machine', 'cheeses']\n",
        "\n",
        "weights = [15, 24, 42, 120, 5]\n",
        "\n",
        "print(list(zip(items, weights)))"
      ],
      "execution_count": 24,
      "outputs": [
        {
          "output_type": "stream",
          "text": [
            "[('bananas', 15), ('mattresses', 24), ('dog kennels', 42), ('machine', 120), ('cheeses', 5)]\n"
          ],
          "name": "stdout"
        }
      ]
    },
    {
      "cell_type": "code",
      "metadata": {
        "colab": {
          "base_uri": "https://localhost:8080/"
        },
        "id": "YNEKrJnqrRUX",
        "outputId": "a2a46db1-e6aa-4379-9fe2-4839419b3be3"
      },
      "source": [
        "for item, weight in zip(items, weights):\n",
        "    print(\"{}: {}\".format(item, weight))"
      ],
      "execution_count": 25,
      "outputs": [
        {
          "output_type": "stream",
          "text": [
            "bananas: 15\n",
            "mattresses: 24\n",
            "dog kennels: 42\n",
            "machine: 120\n",
            "cheeses: 5\n"
          ],
          "name": "stdout"
        }
      ]
    },
    {
      "cell_type": "markdown",
      "metadata": {
        "id": "eWJJQX0jrW8f"
      },
      "source": [
        "In addition to zipping two lists together, you can also unzip a list into tuples using an asterisk."
      ]
    },
    {
      "cell_type": "code",
      "metadata": {
        "colab": {
          "base_uri": "https://localhost:8080/"
        },
        "id": "TBHMjiGfrYHX",
        "outputId": "58f5c42a-c838-4b83-bcf1-ba6564600574"
      },
      "source": [
        "manifest = [(\"bananas\", 15), (\"mattresses\", 24), (\"dog kennels\", 42), \n",
        "            (\"machine\", 120), (\"cheeses\", 5)]\n",
        "\n",
        "items, weights = zip(*manifest)\n",
        "\n",
        "print(items)\n",
        "print(weights)"
      ],
      "execution_count": 26,
      "outputs": [
        {
          "output_type": "stream",
          "text": [
            "('bananas', 'mattresses', 'dog kennels', 'machine', 'cheeses')\n",
            "(15, 24, 42, 120, 5)\n"
          ],
          "name": "stdout"
        }
      ]
    },
    {
      "cell_type": "markdown",
      "metadata": {
        "id": "D1winyUarhwZ"
      },
      "source": [
        "This would create the same letters and nums tuples we saw earlier.\n",
        "\n",
        "**Enumerate:**\n",
        "\n",
        "**enumerate** is a built in function that returns an iterator of tuples containing indices and values of a list. You'll often use this when you want the index along with each element of an iterable in a loop."
      ]
    },
    {
      "cell_type": "code",
      "metadata": {
        "colab": {
          "base_uri": "https://localhost:8080/"
        },
        "id": "B-DNsCy7rqAw",
        "outputId": "b90b4c81-cee6-4c20-d275-75757d54d87f"
      },
      "source": [
        "items = ['bananas', 'mattresses', 'dog kennels', 'machine', 'cheeses']\n",
        "\n",
        "for i, item in zip(range(len(items)), items):\n",
        "  print(i, item)"
      ],
      "execution_count": 27,
      "outputs": [
        {
          "output_type": "stream",
          "text": [
            "0 bananas\n",
            "1 mattresses\n",
            "2 dog kennels\n",
            "3 machine\n",
            "4 cheeses\n"
          ],
          "name": "stdout"
        }
      ]
    },
    {
      "cell_type": "code",
      "metadata": {
        "colab": {
          "base_uri": "https://localhost:8080/"
        },
        "id": "Bj-r1ep8rugy",
        "outputId": "95f515c5-b260-48d3-8974-7cef204a15ea"
      },
      "source": [
        "items = ['bananas', 'mattresses', 'dog kennels', 'machine', 'cheeses']\n",
        "\n",
        "for i, item in enumerate(items):\n",
        "  print(i, item)"
      ],
      "execution_count": 28,
      "outputs": [
        {
          "output_type": "stream",
          "text": [
            "0 bananas\n",
            "1 mattresses\n",
            "2 dog kennels\n",
            "3 machine\n",
            "4 cheeses\n"
          ],
          "name": "stdout"
        }
      ]
    },
    {
      "cell_type": "markdown",
      "metadata": {
        "id": "j-RmKzYqr2JM"
      },
      "source": [
        "**List Comprehensions:**\n",
        "\n",
        "In Python you can create lists very quickly and consisely with a cool tool called as list comprehension. For exampls from earlier:"
      ]
    },
    {
      "cell_type": "code",
      "metadata": {
        "colab": {
          "base_uri": "https://localhost:8080/"
        },
        "id": "VrATuLmdr-zK",
        "outputId": "f1643507-1d1d-44be-ed83-985aeed8c963"
      },
      "source": [
        "cities = ['new york city', 'mountain view', \n",
        "                      'chicago', 'los angeles']\n",
        "capitalized_cities = []\n",
        "\n",
        "for city in cities:\n",
        "    capitalized_cities.append(city.title())\n",
        "\n",
        "print(capitalized_cities)"
      ],
      "execution_count": 29,
      "outputs": [
        {
          "output_type": "stream",
          "text": [
            "['New York City', 'Mountain View', 'Chicago', 'Los Angeles']\n"
          ],
          "name": "stdout"
        }
      ]
    },
    {
      "cell_type": "markdown",
      "metadata": {
        "id": "rG3gAbqCsDe_"
      },
      "source": [
        "With the help of list comprehension this can be reduced to:"
      ]
    },
    {
      "cell_type": "code",
      "metadata": {
        "colab": {
          "base_uri": "https://localhost:8080/"
        },
        "id": "WGDDr3iUsEh7",
        "outputId": "5f7d8c60-4579-4c52-ed03-99a599338181"
      },
      "source": [
        "capitalized_cities = [city.title() for city in cities]\n",
        "\n",
        "print(capitalized_cities)"
      ],
      "execution_count": 30,
      "outputs": [
        {
          "output_type": "stream",
          "text": [
            "['New York City', 'Mountain View', 'Chicago', 'Los Angeles']\n"
          ],
          "name": "stdout"
        }
      ]
    },
    {
      "cell_type": "markdown",
      "metadata": {
        "id": "KnwgIyU7sNhS"
      },
      "source": [
        "**List comprehensions** allow us to create a list using a for loop in one step.\n",
        "\n",
        "You create a list comprehension with brackets [], including an expression to evaluate for each element in an iterable. This list comprehension above calls city.title() for each element city in cities, to create each element in the new list, capitalized_cities.\n",
        "\n",
        "**Conditionals in List Comprehensions:**\n",
        "\n",
        "You can also add conditionals to list comprehensions (listcomps).\n",
        "\n",
        "Lets look at an example:"
      ]
    },
    {
      "cell_type": "code",
      "metadata": {
        "colab": {
          "base_uri": "https://localhost:8080/"
        },
        "id": "hqCev9UKsbQN",
        "outputId": "9f7932f8-2a6c-42d8-b799-1635ae715377"
      },
      "source": [
        "squares = []\n",
        "\n",
        "for x in range(9):\n",
        "  squares.append(x**2)\n",
        "\n",
        "print(squares)"
      ],
      "execution_count": 31,
      "outputs": [
        {
          "output_type": "stream",
          "text": [
            "[0, 1, 4, 9, 16, 25, 36, 49, 64]\n"
          ],
          "name": "stdout"
        }
      ]
    },
    {
      "cell_type": "markdown",
      "metadata": {
        "id": "HqxrOU6vsgYj"
      },
      "source": [
        "writing the same as a list comprehension will be like:"
      ]
    },
    {
      "cell_type": "code",
      "metadata": {
        "colab": {
          "base_uri": "https://localhost:8080/"
        },
        "id": "VDJPngQmshlh",
        "outputId": "b64f063c-3a8c-4ea2-fc57-0c0fb920994a"
      },
      "source": [
        "squares = [x**2 for x in range(9)]\n",
        "\n",
        "print(squares)"
      ],
      "execution_count": 32,
      "outputs": [
        {
          "output_type": "stream",
          "text": [
            "[0, 1, 4, 9, 16, 25, 36, 49, 64]\n"
          ],
          "name": "stdout"
        }
      ]
    },
    {
      "cell_type": "markdown",
      "metadata": {
        "id": "fvH-ZtR6soed"
      },
      "source": [
        "Now if we want only those numbers that are multiple of 2:"
      ]
    },
    {
      "cell_type": "code",
      "metadata": {
        "colab": {
          "base_uri": "https://localhost:8080/"
        },
        "id": "ODVpY4dQspjL",
        "outputId": "19ce16da-055a-45cd-97d9-938beee088ad"
      },
      "source": [
        "squares = [x**2 for x in range(9) if x % 2 == 0]\n",
        "print(squares)"
      ],
      "execution_count": 33,
      "outputs": [
        {
          "output_type": "stream",
          "text": [
            "[0, 4, 16, 36, 64]\n"
          ],
          "name": "stdout"
        }
      ]
    },
    {
      "cell_type": "markdown",
      "metadata": {
        "id": "2rOrxw3PsxtS"
      },
      "source": [
        "The code above sets squares equal to the list [0, 4, 16, 36, 64], as x to the power of 2 is only evaluated if x is even. If you want to add an else, you will get a syntax error doing this."
      ]
    },
    {
      "cell_type": "code",
      "metadata": {
        "colab": {
          "base_uri": "https://localhost:8080/",
          "height": 128
        },
        "id": "j953UssRs1Bw",
        "outputId": "cc74e176-7a15-4992-eaba-877773069a18"
      },
      "source": [
        "squares = [x**2 for x in range(9) if x % 2 == 0 else x + 3]"
      ],
      "execution_count": 34,
      "outputs": [
        {
          "output_type": "error",
          "ename": "SyntaxError",
          "evalue": "ignored",
          "traceback": [
            "\u001b[0;36m  File \u001b[0;32m\"<ipython-input-34-0d53fcb29c35>\"\u001b[0;36m, line \u001b[0;32m1\u001b[0m\n\u001b[0;31m    squares = [x**2 for x in range(9) if x % 2 == 0 else x + 3]\u001b[0m\n\u001b[0m                                                       ^\u001b[0m\n\u001b[0;31mSyntaxError\u001b[0m\u001b[0;31m:\u001b[0m invalid syntax\n"
          ]
        }
      ]
    },
    {
      "cell_type": "markdown",
      "metadata": {
        "id": "AqqYhtp5s6-G"
      },
      "source": [
        "File \"<ipython-input-30-0d53fcb29c35>\", line 1\n",
        "    squares = [x**2 for x in range(9) if x % 2 == 0 else x + 3]\n",
        "    \n",
        "                                                       ^\n",
        "SyntaxError: invalid syntax\n",
        "\n",
        "If you would like to add else, you have to move the conditionals to the beginning of the listcomp, right after the expression, like this."
      ]
    },
    {
      "cell_type": "code",
      "metadata": {
        "id": "C_R3aZSDtGMx"
      },
      "source": [
        "squares = [x**2 if x % 2 == 0 else x + 3 for x in range(9)]"
      ],
      "execution_count": 35,
      "outputs": []
    },
    {
      "cell_type": "markdown",
      "metadata": {
        "id": "gwM4w88gtMSG"
      },
      "source": [
        "List comprehensions are not found in other languages, but are very common in Python."
      ]
    },
    {
      "cell_type": "code",
      "metadata": {
        "id": "0UEJ5_uJtNrd"
      },
      "source": [
        ""
      ],
      "execution_count": null,
      "outputs": []
    }
  ]
}