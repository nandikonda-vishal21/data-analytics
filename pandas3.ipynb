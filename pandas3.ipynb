{
  "nbformat": 4,
  "nbformat_minor": 0,
  "metadata": {
    "colab": {
      "name": "pandas3.ipynb",
      "provenance": [],
      "authorship_tag": "ABX9TyN/+b10oDDTci45KZnIIQ0P",
      "include_colab_link": true
    },
    "kernelspec": {
      "name": "python3",
      "display_name": "Python 3"
    },
    "language_info": {
      "name": "python"
    }
  },
  "cells": [
    {
      "cell_type": "markdown",
      "metadata": {
        "id": "view-in-github",
        "colab_type": "text"
      },
      "source": [
        "<a href=\"https://colab.research.google.com/github/nandikonda-vishal21/data-analytics/blob/main/pandas3.ipynb\" target=\"_parent\"><img src=\"https://colab.research.google.com/assets/colab-badge.svg\" alt=\"Open In Colab\"/></a>"
      ]
    },
    {
      "cell_type": "code",
      "metadata": {
        "colab": {
          "base_uri": "https://localhost:8080/"
        },
        "id": "WYtLzRAaEc8y",
        "outputId": "b088825f-7f0a-4b5e-97d9-134179f83fac"
      },
      "source": [
        "print(\"pandas3\")"
      ],
      "execution_count": 1,
      "outputs": [
        {
          "output_type": "stream",
          "text": [
            "pandas3\n"
          ],
          "name": "stdout"
        }
      ]
    },
    {
      "cell_type": "markdown",
      "metadata": {
        "id": "SCI1LA0SGYVm"
      },
      "source": [
        "In machine learning you will most likely use databases from many sources to train your learning algorithms. Pandas allows us to load databases of different formats into DataFrames. One of the most popular data formats used to store databases is csv. CSV stands for **Comma Separated Values** and offers a simple format to store data. We can load CSV files into Pandas DataFrames using the **pd.read_csv() function**. Let's load **Google stock data** into a Pandas DataFrame. The GOOG.csv file contains Google stock data from 8/19/2004 till 10/13/2017 taken from Yahoo Finance."
      ]
    },
    {
      "cell_type": "code",
      "metadata": {
        "colab": {
          "base_uri": "https://localhost:8080/"
        },
        "id": "l9SKVaeMGiWI",
        "outputId": "a8f81b6c-38b3-42d3-c6c5-f328e0f82bed"
      },
      "source": [
        "import pandas as pd\n",
        "\n",
        "# We load Google stock data in a DataFrame\n",
        "Google_stock = pd.read_csv('stocks.csv')\n",
        "\n",
        "# We print some information about Google_stock\n",
        "print('Google_stock is of type:', type(Google_stock))\n",
        "print('Google_stock has shape:', Google_stock.shape)"
      ],
      "execution_count": 3,
      "outputs": [
        {
          "output_type": "stream",
          "text": [
            "Google_stock is of type: <class 'pandas.core.frame.DataFrame'>\n",
            "Google_stock has shape: (4475, 7)\n"
          ],
          "name": "stdout"
        }
      ]
    },
    {
      "cell_type": "markdown",
      "metadata": {
        "id": "3Gk0MdXcG50l"
      },
      "source": [
        "We see that we have loaded the stocks.csv file into a Pandas DataFrame and it consists of 3,313 rows and 7 columns. Now let's look at the stock data"
      ]
    },
    {
      "cell_type": "code",
      "metadata": {
        "colab": {
          "base_uri": "https://localhost:8080/",
          "height": 402
        },
        "id": "ZUU46jRCG69R",
        "outputId": "3f2d2bfe-2d06-4e0d-a770-7bc507d717b3"
      },
      "source": [
        "Google_stock\n"
      ],
      "execution_count": 6,
      "outputs": [
        {
          "output_type": "execute_result",
          "data": {
            "text/html": [
              "<div>\n",
              "<style scoped>\n",
              "    .dataframe tbody tr th:only-of-type {\n",
              "        vertical-align: middle;\n",
              "    }\n",
              "\n",
              "    .dataframe tbody tr th {\n",
              "        vertical-align: top;\n",
              "    }\n",
              "\n",
              "    .dataframe thead th {\n",
              "        text-align: right;\n",
              "    }\n",
              "</style>\n",
              "<table border=\"1\" class=\"dataframe\">\n",
              "  <thead>\n",
              "    <tr style=\"text-align: right;\">\n",
              "      <th></th>\n",
              "      <th>Date</th>\n",
              "      <th>Open</th>\n",
              "      <th>High</th>\n",
              "      <th>Low</th>\n",
              "      <th>Close</th>\n",
              "      <th>Adj Close</th>\n",
              "      <th>Volume</th>\n",
              "    </tr>\n",
              "  </thead>\n",
              "  <tbody>\n",
              "    <tr>\n",
              "      <th>0</th>\n",
              "      <td>2000-01-03</td>\n",
              "      <td>3.745536</td>\n",
              "      <td>4.017857</td>\n",
              "      <td>3.631696</td>\n",
              "      <td>3.997768</td>\n",
              "      <td>3.596616</td>\n",
              "      <td>133949200</td>\n",
              "    </tr>\n",
              "    <tr>\n",
              "      <th>1</th>\n",
              "      <td>2000-01-04</td>\n",
              "      <td>3.866071</td>\n",
              "      <td>3.950893</td>\n",
              "      <td>3.613839</td>\n",
              "      <td>3.660714</td>\n",
              "      <td>3.293384</td>\n",
              "      <td>128094400</td>\n",
              "    </tr>\n",
              "    <tr>\n",
              "      <th>2</th>\n",
              "      <td>2000-01-05</td>\n",
              "      <td>3.705357</td>\n",
              "      <td>3.948661</td>\n",
              "      <td>3.678571</td>\n",
              "      <td>3.714286</td>\n",
              "      <td>3.341579</td>\n",
              "      <td>194580400</td>\n",
              "    </tr>\n",
              "    <tr>\n",
              "      <th>3</th>\n",
              "      <td>2000-01-06</td>\n",
              "      <td>3.790179</td>\n",
              "      <td>3.821429</td>\n",
              "      <td>3.392857</td>\n",
              "      <td>3.392857</td>\n",
              "      <td>3.052405</td>\n",
              "      <td>191993200</td>\n",
              "    </tr>\n",
              "    <tr>\n",
              "      <th>4</th>\n",
              "      <td>2000-01-07</td>\n",
              "      <td>3.446429</td>\n",
              "      <td>3.607143</td>\n",
              "      <td>3.410714</td>\n",
              "      <td>3.553571</td>\n",
              "      <td>3.196992</td>\n",
              "      <td>115183600</td>\n",
              "    </tr>\n",
              "    <tr>\n",
              "      <th>...</th>\n",
              "      <td>...</td>\n",
              "      <td>...</td>\n",
              "      <td>...</td>\n",
              "      <td>...</td>\n",
              "      <td>...</td>\n",
              "      <td>...</td>\n",
              "      <td>...</td>\n",
              "    </tr>\n",
              "    <tr>\n",
              "      <th>4470</th>\n",
              "      <td>2017-10-09</td>\n",
              "      <td>155.809998</td>\n",
              "      <td>156.729996</td>\n",
              "      <td>155.490005</td>\n",
              "      <td>155.839996</td>\n",
              "      <td>155.839996</td>\n",
              "      <td>16262900</td>\n",
              "    </tr>\n",
              "    <tr>\n",
              "      <th>4471</th>\n",
              "      <td>2017-10-10</td>\n",
              "      <td>156.059998</td>\n",
              "      <td>158.000000</td>\n",
              "      <td>155.100006</td>\n",
              "      <td>155.899994</td>\n",
              "      <td>155.899994</td>\n",
              "      <td>15617000</td>\n",
              "    </tr>\n",
              "    <tr>\n",
              "      <th>4472</th>\n",
              "      <td>2017-10-11</td>\n",
              "      <td>155.970001</td>\n",
              "      <td>156.979996</td>\n",
              "      <td>155.750000</td>\n",
              "      <td>156.550003</td>\n",
              "      <td>156.550003</td>\n",
              "      <td>16905600</td>\n",
              "    </tr>\n",
              "    <tr>\n",
              "      <th>4473</th>\n",
              "      <td>2017-10-12</td>\n",
              "      <td>156.350006</td>\n",
              "      <td>157.369995</td>\n",
              "      <td>155.729996</td>\n",
              "      <td>156.000000</td>\n",
              "      <td>156.000000</td>\n",
              "      <td>16125100</td>\n",
              "    </tr>\n",
              "    <tr>\n",
              "      <th>4474</th>\n",
              "      <td>2017-10-13</td>\n",
              "      <td>156.729996</td>\n",
              "      <td>157.279999</td>\n",
              "      <td>156.410004</td>\n",
              "      <td>156.990005</td>\n",
              "      <td>156.990005</td>\n",
              "      <td>16344800</td>\n",
              "    </tr>\n",
              "  </tbody>\n",
              "</table>\n",
              "<p>4475 rows × 7 columns</p>\n",
              "</div>"
            ],
            "text/plain": [
              "            Date        Open        High  ...       Close   Adj Close     Volume\n",
              "0     2000-01-03    3.745536    4.017857  ...    3.997768    3.596616  133949200\n",
              "1     2000-01-04    3.866071    3.950893  ...    3.660714    3.293384  128094400\n",
              "2     2000-01-05    3.705357    3.948661  ...    3.714286    3.341579  194580400\n",
              "3     2000-01-06    3.790179    3.821429  ...    3.392857    3.052405  191993200\n",
              "4     2000-01-07    3.446429    3.607143  ...    3.553571    3.196992  115183600\n",
              "...          ...         ...         ...  ...         ...         ...        ...\n",
              "4470  2017-10-09  155.809998  156.729996  ...  155.839996  155.839996   16262900\n",
              "4471  2017-10-10  156.059998  158.000000  ...  155.899994  155.899994   15617000\n",
              "4472  2017-10-11  155.970001  156.979996  ...  156.550003  156.550003   16905600\n",
              "4473  2017-10-12  156.350006  157.369995  ...  156.000000  156.000000   16125100\n",
              "4474  2017-10-13  156.729996  157.279999  ...  156.990005  156.990005   16344800\n",
              "\n",
              "[4475 rows x 7 columns]"
            ]
          },
          "metadata": {
            "tags": []
          },
          "execution_count": 6
        }
      ]
    },
    {
      "cell_type": "markdown",
      "metadata": {
        "id": "bV6phLVkHrYJ"
      },
      "source": [
        "We see that it is quite a large dataset and that Pandas has automatically assigned numerical row indices to the DataFrame. Pandas also used the labels that appear in the data in the CSV file to assign the column labels.\n",
        "\n",
        "When dealing with large datasets like this one, it is often useful just to take a look at the first few rows of data instead of the whole dataset. We can take a look at the **first 5 rows of data using the .head() method**, as shown below"
      ]
    },
    {
      "cell_type": "code",
      "metadata": {
        "colab": {
          "base_uri": "https://localhost:8080/",
          "height": 195
        },
        "id": "zfFyAcPwHwhn",
        "outputId": "991d82dd-17a4-4e13-b148-c583f4853cbf"
      },
      "source": [
        "Google_stock.head()"
      ],
      "execution_count": 7,
      "outputs": [
        {
          "output_type": "execute_result",
          "data": {
            "text/html": [
              "<div>\n",
              "<style scoped>\n",
              "    .dataframe tbody tr th:only-of-type {\n",
              "        vertical-align: middle;\n",
              "    }\n",
              "\n",
              "    .dataframe tbody tr th {\n",
              "        vertical-align: top;\n",
              "    }\n",
              "\n",
              "    .dataframe thead th {\n",
              "        text-align: right;\n",
              "    }\n",
              "</style>\n",
              "<table border=\"1\" class=\"dataframe\">\n",
              "  <thead>\n",
              "    <tr style=\"text-align: right;\">\n",
              "      <th></th>\n",
              "      <th>Date</th>\n",
              "      <th>Open</th>\n",
              "      <th>High</th>\n",
              "      <th>Low</th>\n",
              "      <th>Close</th>\n",
              "      <th>Adj Close</th>\n",
              "      <th>Volume</th>\n",
              "    </tr>\n",
              "  </thead>\n",
              "  <tbody>\n",
              "    <tr>\n",
              "      <th>0</th>\n",
              "      <td>2000-01-03</td>\n",
              "      <td>3.745536</td>\n",
              "      <td>4.017857</td>\n",
              "      <td>3.631696</td>\n",
              "      <td>3.997768</td>\n",
              "      <td>3.596616</td>\n",
              "      <td>133949200</td>\n",
              "    </tr>\n",
              "    <tr>\n",
              "      <th>1</th>\n",
              "      <td>2000-01-04</td>\n",
              "      <td>3.866071</td>\n",
              "      <td>3.950893</td>\n",
              "      <td>3.613839</td>\n",
              "      <td>3.660714</td>\n",
              "      <td>3.293384</td>\n",
              "      <td>128094400</td>\n",
              "    </tr>\n",
              "    <tr>\n",
              "      <th>2</th>\n",
              "      <td>2000-01-05</td>\n",
              "      <td>3.705357</td>\n",
              "      <td>3.948661</td>\n",
              "      <td>3.678571</td>\n",
              "      <td>3.714286</td>\n",
              "      <td>3.341579</td>\n",
              "      <td>194580400</td>\n",
              "    </tr>\n",
              "    <tr>\n",
              "      <th>3</th>\n",
              "      <td>2000-01-06</td>\n",
              "      <td>3.790179</td>\n",
              "      <td>3.821429</td>\n",
              "      <td>3.392857</td>\n",
              "      <td>3.392857</td>\n",
              "      <td>3.052405</td>\n",
              "      <td>191993200</td>\n",
              "    </tr>\n",
              "    <tr>\n",
              "      <th>4</th>\n",
              "      <td>2000-01-07</td>\n",
              "      <td>3.446429</td>\n",
              "      <td>3.607143</td>\n",
              "      <td>3.410714</td>\n",
              "      <td>3.553571</td>\n",
              "      <td>3.196992</td>\n",
              "      <td>115183600</td>\n",
              "    </tr>\n",
              "  </tbody>\n",
              "</table>\n",
              "</div>"
            ],
            "text/plain": [
              "         Date      Open      High       Low     Close  Adj Close     Volume\n",
              "0  2000-01-03  3.745536  4.017857  3.631696  3.997768   3.596616  133949200\n",
              "1  2000-01-04  3.866071  3.950893  3.613839  3.660714   3.293384  128094400\n",
              "2  2000-01-05  3.705357  3.948661  3.678571  3.714286   3.341579  194580400\n",
              "3  2000-01-06  3.790179  3.821429  3.392857  3.392857   3.052405  191993200\n",
              "4  2000-01-07  3.446429  3.607143  3.410714  3.553571   3.196992  115183600"
            ]
          },
          "metadata": {
            "tags": []
          },
          "execution_count": 7
        }
      ]
    },
    {
      "cell_type": "markdown",
      "metadata": {
        "id": "8XFL0ey1H5GO"
      },
      "source": [
        "We can also take a look at the last 5 rows of data by using the .tail() method:"
      ]
    },
    {
      "cell_type": "code",
      "metadata": {
        "colab": {
          "base_uri": "https://localhost:8080/",
          "height": 195
        },
        "id": "531-ho0FH9G1",
        "outputId": "376e7248-0479-45fa-9aed-9d957d2ddaaa"
      },
      "source": [
        "Google_stock.tail()"
      ],
      "execution_count": 8,
      "outputs": [
        {
          "output_type": "execute_result",
          "data": {
            "text/html": [
              "<div>\n",
              "<style scoped>\n",
              "    .dataframe tbody tr th:only-of-type {\n",
              "        vertical-align: middle;\n",
              "    }\n",
              "\n",
              "    .dataframe tbody tr th {\n",
              "        vertical-align: top;\n",
              "    }\n",
              "\n",
              "    .dataframe thead th {\n",
              "        text-align: right;\n",
              "    }\n",
              "</style>\n",
              "<table border=\"1\" class=\"dataframe\">\n",
              "  <thead>\n",
              "    <tr style=\"text-align: right;\">\n",
              "      <th></th>\n",
              "      <th>Date</th>\n",
              "      <th>Open</th>\n",
              "      <th>High</th>\n",
              "      <th>Low</th>\n",
              "      <th>Close</th>\n",
              "      <th>Adj Close</th>\n",
              "      <th>Volume</th>\n",
              "    </tr>\n",
              "  </thead>\n",
              "  <tbody>\n",
              "    <tr>\n",
              "      <th>4470</th>\n",
              "      <td>2017-10-09</td>\n",
              "      <td>155.809998</td>\n",
              "      <td>156.729996</td>\n",
              "      <td>155.490005</td>\n",
              "      <td>155.839996</td>\n",
              "      <td>155.839996</td>\n",
              "      <td>16262900</td>\n",
              "    </tr>\n",
              "    <tr>\n",
              "      <th>4471</th>\n",
              "      <td>2017-10-10</td>\n",
              "      <td>156.059998</td>\n",
              "      <td>158.000000</td>\n",
              "      <td>155.100006</td>\n",
              "      <td>155.899994</td>\n",
              "      <td>155.899994</td>\n",
              "      <td>15617000</td>\n",
              "    </tr>\n",
              "    <tr>\n",
              "      <th>4472</th>\n",
              "      <td>2017-10-11</td>\n",
              "      <td>155.970001</td>\n",
              "      <td>156.979996</td>\n",
              "      <td>155.750000</td>\n",
              "      <td>156.550003</td>\n",
              "      <td>156.550003</td>\n",
              "      <td>16905600</td>\n",
              "    </tr>\n",
              "    <tr>\n",
              "      <th>4473</th>\n",
              "      <td>2017-10-12</td>\n",
              "      <td>156.350006</td>\n",
              "      <td>157.369995</td>\n",
              "      <td>155.729996</td>\n",
              "      <td>156.000000</td>\n",
              "      <td>156.000000</td>\n",
              "      <td>16125100</td>\n",
              "    </tr>\n",
              "    <tr>\n",
              "      <th>4474</th>\n",
              "      <td>2017-10-13</td>\n",
              "      <td>156.729996</td>\n",
              "      <td>157.279999</td>\n",
              "      <td>156.410004</td>\n",
              "      <td>156.990005</td>\n",
              "      <td>156.990005</td>\n",
              "      <td>16344800</td>\n",
              "    </tr>\n",
              "  </tbody>\n",
              "</table>\n",
              "</div>"
            ],
            "text/plain": [
              "            Date        Open        High  ...       Close   Adj Close    Volume\n",
              "4470  2017-10-09  155.809998  156.729996  ...  155.839996  155.839996  16262900\n",
              "4471  2017-10-10  156.059998  158.000000  ...  155.899994  155.899994  15617000\n",
              "4472  2017-10-11  155.970001  156.979996  ...  156.550003  156.550003  16905600\n",
              "4473  2017-10-12  156.350006  157.369995  ...  156.000000  156.000000  16125100\n",
              "4474  2017-10-13  156.729996  157.279999  ...  156.990005  156.990005  16344800\n",
              "\n",
              "[5 rows x 7 columns]"
            ]
          },
          "metadata": {
            "tags": []
          },
          "execution_count": 8
        }
      ]
    },
    {
      "cell_type": "markdown",
      "metadata": {
        "id": "q-BWpzrsIEs_"
      },
      "source": [
        "We can also optionally use .**head(N) or .tail(N)** to display the first and last N rows of data, respectively.\n",
        "\n",
        "Let's do a quick check to see whether we have any NaN values in our dataset. To do this, we will use the **.isnull()** method followed by the **.any()** method to check whether any of the columns contain NaN values."
      ]
    },
    {
      "cell_type": "code",
      "metadata": {
        "colab": {
          "base_uri": "https://localhost:8080/"
        },
        "id": "zTH3wUCiINJ0",
        "outputId": "3a2fdeee-f0e3-4861-e8e0-041115df22c9"
      },
      "source": [
        "Google_stock.isnull().any()"
      ],
      "execution_count": 9,
      "outputs": [
        {
          "output_type": "execute_result",
          "data": {
            "text/plain": [
              "Date         False\n",
              "Open         False\n",
              "High         False\n",
              "Low          False\n",
              "Close        False\n",
              "Adj Close    False\n",
              "Volume       False\n",
              "dtype: bool"
            ]
          },
          "metadata": {
            "tags": []
          },
          "execution_count": 9
        }
      ]
    },
    {
      "cell_type": "markdown",
      "metadata": {
        "id": "R1XGRlnqIVjE"
      },
      "source": [
        "We see that we have no NaN values.\n",
        "\n",
        "When dealing with large datasets, it is often useful to get statistical information from them. Pandas provides the **.describe()** method to get descriptive statistics on each column of the DataFrame.\n",
        "\n",
        " Let's see how this works:"
      ]
    },
    {
      "cell_type": "code",
      "metadata": {
        "colab": {
          "base_uri": "https://localhost:8080/",
          "height": 284
        },
        "id": "qNJ97eLoIaws",
        "outputId": "8db87f42-66f4-45cf-9e65-674c265bba49"
      },
      "source": [
        "# We get descriptive statistics on our stock data\n",
        "Google_stock.describe()"
      ],
      "execution_count": 10,
      "outputs": [
        {
          "output_type": "execute_result",
          "data": {
            "text/html": [
              "<div>\n",
              "<style scoped>\n",
              "    .dataframe tbody tr th:only-of-type {\n",
              "        vertical-align: middle;\n",
              "    }\n",
              "\n",
              "    .dataframe tbody tr th {\n",
              "        vertical-align: top;\n",
              "    }\n",
              "\n",
              "    .dataframe thead th {\n",
              "        text-align: right;\n",
              "    }\n",
              "</style>\n",
              "<table border=\"1\" class=\"dataframe\">\n",
              "  <thead>\n",
              "    <tr style=\"text-align: right;\">\n",
              "      <th></th>\n",
              "      <th>Open</th>\n",
              "      <th>High</th>\n",
              "      <th>Low</th>\n",
              "      <th>Close</th>\n",
              "      <th>Adj Close</th>\n",
              "      <th>Volume</th>\n",
              "    </tr>\n",
              "  </thead>\n",
              "  <tbody>\n",
              "    <tr>\n",
              "      <th>count</th>\n",
              "      <td>4475.000000</td>\n",
              "      <td>4475.000000</td>\n",
              "      <td>4475.000000</td>\n",
              "      <td>4475.000000</td>\n",
              "      <td>4475.000000</td>\n",
              "      <td>4.475000e+03</td>\n",
              "    </tr>\n",
              "    <tr>\n",
              "      <th>mean</th>\n",
              "      <td>42.568307</td>\n",
              "      <td>42.965742</td>\n",
              "      <td>42.131029</td>\n",
              "      <td>42.559511</td>\n",
              "      <td>40.069959</td>\n",
              "      <td>1.254019e+08</td>\n",
              "    </tr>\n",
              "    <tr>\n",
              "      <th>std</th>\n",
              "      <td>44.857019</td>\n",
              "      <td>45.186427</td>\n",
              "      <td>44.498820</td>\n",
              "      <td>44.853763</td>\n",
              "      <td>43.478843</td>\n",
              "      <td>9.978767e+07</td>\n",
              "    </tr>\n",
              "    <tr>\n",
              "      <th>min</th>\n",
              "      <td>0.927857</td>\n",
              "      <td>0.942143</td>\n",
              "      <td>0.908571</td>\n",
              "      <td>0.937143</td>\n",
              "      <td>0.843106</td>\n",
              "      <td>9.835000e+06</td>\n",
              "    </tr>\n",
              "    <tr>\n",
              "      <th>25%</th>\n",
              "      <td>3.875000</td>\n",
              "      <td>3.964286</td>\n",
              "      <td>3.767857</td>\n",
              "      <td>3.888840</td>\n",
              "      <td>3.498618</td>\n",
              "      <td>5.890050e+07</td>\n",
              "    </tr>\n",
              "    <tr>\n",
              "      <th>50%</th>\n",
              "      <td>22.571428</td>\n",
              "      <td>22.927143</td>\n",
              "      <td>22.250000</td>\n",
              "      <td>22.707144</td>\n",
              "      <td>20.428621</td>\n",
              "      <td>9.836960e+07</td>\n",
              "    </tr>\n",
              "    <tr>\n",
              "      <th>75%</th>\n",
              "      <td>76.806431</td>\n",
              "      <td>77.500000</td>\n",
              "      <td>76.130710</td>\n",
              "      <td>76.667854</td>\n",
              "      <td>70.963589</td>\n",
              "      <td>1.628862e+08</td>\n",
              "    </tr>\n",
              "    <tr>\n",
              "      <th>max</th>\n",
              "      <td>164.800003</td>\n",
              "      <td>164.940002</td>\n",
              "      <td>163.630005</td>\n",
              "      <td>164.050003</td>\n",
              "      <td>164.050003</td>\n",
              "      <td>1.855410e+09</td>\n",
              "    </tr>\n",
              "  </tbody>\n",
              "</table>\n",
              "</div>"
            ],
            "text/plain": [
              "              Open         High  ...    Adj Close        Volume\n",
              "count  4475.000000  4475.000000  ...  4475.000000  4.475000e+03\n",
              "mean     42.568307    42.965742  ...    40.069959  1.254019e+08\n",
              "std      44.857019    45.186427  ...    43.478843  9.978767e+07\n",
              "min       0.927857     0.942143  ...     0.843106  9.835000e+06\n",
              "25%       3.875000     3.964286  ...     3.498618  5.890050e+07\n",
              "50%      22.571428    22.927143  ...    20.428621  9.836960e+07\n",
              "75%      76.806431    77.500000  ...    70.963589  1.628862e+08\n",
              "max     164.800003   164.940002  ...   164.050003  1.855410e+09\n",
              "\n",
              "[8 rows x 6 columns]"
            ]
          },
          "metadata": {
            "tags": []
          },
          "execution_count": 10
        }
      ]
    },
    {
      "cell_type": "markdown",
      "metadata": {
        "id": "vLdrUewsIquK"
      },
      "source": [
        "If desired, we can apply the .describe() method on a single column as shown below:"
      ]
    },
    {
      "cell_type": "code",
      "metadata": {
        "colab": {
          "base_uri": "https://localhost:8080/"
        },
        "id": "7-BkN8mWIr12",
        "outputId": "257cb93c-a58f-432a-9432-aac3a47381ed"
      },
      "source": [
        "# We get descriptive statistics on a single column of our DataFrame\n",
        "Google_stock['Adj Close'].describe()"
      ],
      "execution_count": 11,
      "outputs": [
        {
          "output_type": "execute_result",
          "data": {
            "text/plain": [
              "count    4475.000000\n",
              "mean       40.069959\n",
              "std        43.478843\n",
              "min         0.843106\n",
              "25%         3.498618\n",
              "50%        20.428621\n",
              "75%        70.963589\n",
              "max       164.050003\n",
              "Name: Adj Close, dtype: float64"
            ]
          },
          "metadata": {
            "tags": []
          },
          "execution_count": 11
        }
      ]
    },
    {
      "cell_type": "markdown",
      "metadata": {
        "id": "CRK1aoroI525"
      },
      "source": [
        "Similarly, you can also look at one statistic by using one of the many statistical functions Pandas provides. Let's look at some examples:"
      ]
    },
    {
      "cell_type": "code",
      "metadata": {
        "colab": {
          "base_uri": "https://localhost:8080/"
        },
        "id": "UitH5WePI64A",
        "outputId": "698e9b9e-7ed8-42e9-df0b-2a40fbf64803"
      },
      "source": [
        "# We print information about our DataFrame  \n",
        "print()\n",
        "print('Maximum values of each column:\\n', Google_stock.max())\n",
        "print()\n",
        "print('Minimum Close value:', Google_stock['Close'].min())\n",
        "print()\n",
        "print('Average value of each column:\\n', Google_stock.mean())"
      ],
      "execution_count": 12,
      "outputs": [
        {
          "output_type": "stream",
          "text": [
            "\n",
            "Maximum values of each column:\n",
            " Date         2017-10-13\n",
            "Open              164.8\n",
            "High             164.94\n",
            "Low              163.63\n",
            "Close            164.05\n",
            "Adj Close        164.05\n",
            "Volume       1855410200\n",
            "dtype: object\n",
            "\n",
            "Minimum Close value: 0.9371430000000001\n",
            "\n",
            "Average value of each column:\n",
            " Open         4.256831e+01\n",
            "High         4.296574e+01\n",
            "Low          4.213103e+01\n",
            "Close        4.255951e+01\n",
            "Adj Close    4.006996e+01\n",
            "Volume       1.254019e+08\n",
            "dtype: float64\n"
          ],
          "name": "stdout"
        }
      ]
    },
    {
      "cell_type": "markdown",
      "metadata": {
        "id": "AcJp2vtnJD8C"
      },
      "source": [
        "Another important statistical measure is **data correlation**. Data correlation can tell us, for example, if the data in different columns are correlated. We can use the **.corr()** method to get the correlation between different columns, as shown below:"
      ]
    },
    {
      "cell_type": "code",
      "metadata": {
        "colab": {
          "base_uri": "https://localhost:8080/",
          "height": 225
        },
        "id": "7YcM8jG6JJ5e",
        "outputId": "8fa6e0c5-f94e-4cb1-d532-4f08275878b8"
      },
      "source": [
        "# We display the correlation between columns\n",
        "Google_stock.corr()"
      ],
      "execution_count": 13,
      "outputs": [
        {
          "output_type": "execute_result",
          "data": {
            "text/html": [
              "<div>\n",
              "<style scoped>\n",
              "    .dataframe tbody tr th:only-of-type {\n",
              "        vertical-align: middle;\n",
              "    }\n",
              "\n",
              "    .dataframe tbody tr th {\n",
              "        vertical-align: top;\n",
              "    }\n",
              "\n",
              "    .dataframe thead th {\n",
              "        text-align: right;\n",
              "    }\n",
              "</style>\n",
              "<table border=\"1\" class=\"dataframe\">\n",
              "  <thead>\n",
              "    <tr style=\"text-align: right;\">\n",
              "      <th></th>\n",
              "      <th>Open</th>\n",
              "      <th>High</th>\n",
              "      <th>Low</th>\n",
              "      <th>Close</th>\n",
              "      <th>Adj Close</th>\n",
              "      <th>Volume</th>\n",
              "    </tr>\n",
              "  </thead>\n",
              "  <tbody>\n",
              "    <tr>\n",
              "      <th>Open</th>\n",
              "      <td>1.000000</td>\n",
              "      <td>0.999943</td>\n",
              "      <td>0.999916</td>\n",
              "      <td>0.999856</td>\n",
              "      <td>0.998851</td>\n",
              "      <td>-0.364721</td>\n",
              "    </tr>\n",
              "    <tr>\n",
              "      <th>High</th>\n",
              "      <td>0.999943</td>\n",
              "      <td>1.000000</td>\n",
              "      <td>0.999904</td>\n",
              "      <td>0.999933</td>\n",
              "      <td>0.998881</td>\n",
              "      <td>-0.363157</td>\n",
              "    </tr>\n",
              "    <tr>\n",
              "      <th>Low</th>\n",
              "      <td>0.999916</td>\n",
              "      <td>0.999904</td>\n",
              "      <td>1.000000</td>\n",
              "      <td>0.999934</td>\n",
              "      <td>0.999016</td>\n",
              "      <td>-0.367615</td>\n",
              "    </tr>\n",
              "    <tr>\n",
              "      <th>Close</th>\n",
              "      <td>0.999856</td>\n",
              "      <td>0.999933</td>\n",
              "      <td>0.999934</td>\n",
              "      <td>1.000000</td>\n",
              "      <td>0.999021</td>\n",
              "      <td>-0.365388</td>\n",
              "    </tr>\n",
              "    <tr>\n",
              "      <th>Adj Close</th>\n",
              "      <td>0.998851</td>\n",
              "      <td>0.998881</td>\n",
              "      <td>0.999016</td>\n",
              "      <td>0.999021</td>\n",
              "      <td>1.000000</td>\n",
              "      <td>-0.373072</td>\n",
              "    </tr>\n",
              "    <tr>\n",
              "      <th>Volume</th>\n",
              "      <td>-0.364721</td>\n",
              "      <td>-0.363157</td>\n",
              "      <td>-0.367615</td>\n",
              "      <td>-0.365388</td>\n",
              "      <td>-0.373072</td>\n",
              "      <td>1.000000</td>\n",
              "    </tr>\n",
              "  </tbody>\n",
              "</table>\n",
              "</div>"
            ],
            "text/plain": [
              "               Open      High       Low     Close  Adj Close    Volume\n",
              "Open       1.000000  0.999943  0.999916  0.999856   0.998851 -0.364721\n",
              "High       0.999943  1.000000  0.999904  0.999933   0.998881 -0.363157\n",
              "Low        0.999916  0.999904  1.000000  0.999934   0.999016 -0.367615\n",
              "Close      0.999856  0.999933  0.999934  1.000000   0.999021 -0.365388\n",
              "Adj Close  0.998851  0.998881  0.999016  0.999021   1.000000 -0.373072\n",
              "Volume    -0.364721 -0.363157 -0.367615 -0.365388  -0.373072  1.000000"
            ]
          },
          "metadata": {
            "tags": []
          },
          "execution_count": 13
        }
      ]
    },
    {
      "cell_type": "markdown",
      "metadata": {
        "id": "SJtKjS8tJS8h"
      },
      "source": [
        "A correlation value of 1 tells us there is a high correlation and a correlation of 0 tells us that the data is not correlated at all.\n",
        "\n",
        "We will end this Introduction to Pandas by taking a look at the **.groupby()** method. The .**groupby() method allows us to group data in different ways**. Let's see how we can group data to get different types of information. For the next examples we are going to load fake data about a fictitious company."
      ]
    },
    {
      "cell_type": "markdown",
      "metadata": {
        "id": "YZ1E8mDnKH7D"
      },
      "source": [
        "# We load fake Company data in a DataFrame\n",
        "data = pd.read_csv('/fake_company.csv')\n",
        "\n",
        "data"
      ]
    },
    {
      "cell_type": "markdown",
      "metadata": {
        "id": "ouj-9dlSKLOg"
      },
      "source": [
        "\tYear\tName\tDepartment\tAge\tSalary\n",
        "0\t1990\tAlice\tHR\t25\t50000\n",
        "\n",
        "1\t1990\tBob\tRD\t30\t48000\n",
        "\n",
        "2\t1990\tCharlie\tAdmin\t45\t55000\n",
        "\n",
        "3\t1991\tAlice\tHR\t26\t52000\n",
        "\n",
        "4\t1991\tBob\tRD\t31\t50000\n",
        "\n",
        "5\t1991\tCharlie\tAdmin\t46\t60000\n",
        "\n",
        "6\t1992\tAlice\tAdmin\t27\t60000\n",
        "\n",
        "7\t1992\tBob\tRD\t32\t52000\n",
        "\n",
        "8\t1992\tCharlie\tAdmin\t28\t62000"
      ]
    },
    {
      "cell_type": "markdown",
      "metadata": {
        "id": "7IkT7RXVKZFK"
      },
      "source": [
        "We see that the data contains information for the year 1990 through 1992. For each year we see name of the employees, the department they work for, their age, and their annual salary. Now, let's use the .**groupby()** method to get information.\n",
        "\n",
        "Let's calculate how much money the company spent in salaries each year. To do this, we will group the data by Year using the .groupby() method and then we will add up the salaries of all the employees by using the .**sum()** method."
      ]
    },
    {
      "cell_type": "markdown",
      "metadata": {
        "id": "kJQ_Y7NoKizS"
      },
      "source": [
        "# We display the total amount of money spent in salaries each year\n",
        "data.groupby(['Year'])['Salary'].sum()"
      ]
    },
    {
      "cell_type": "markdown",
      "metadata": {
        "id": "dn8RV8rzKukO"
      },
      "source": [
        "Year\n",
        "\n",
        "1990    153000\n",
        "\n",
        "1991    162000\n",
        "\n",
        "1992    174000\n",
        "\n",
        "Name: Salary, dtype: int64\n",
        "\n",
        "We see that the company spent a total of 153,000 dollars in 1990, 162,000 in 1991, and 174,000 in 1992.\n",
        "\n",
        "Now, let's suppose I want to know what was the average salary for each year. In this case, we will group the data by Year using the .groupby() method, just as we did before, and then we use the **.mean()** method to get the average salary. Let's see how this works"
      ]
    },
    {
      "cell_type": "markdown",
      "metadata": {
        "id": "qhclbrFEK_ax"
      },
      "source": [
        "# We display the average salary per year\n",
        "data.groupby(['Year'])['Salary'].mean()"
      ]
    },
    {
      "cell_type": "markdown",
      "metadata": {
        "id": "L0t76aq6LElG"
      },
      "source": [
        "Year\n",
        "\n",
        "1990    51000\n",
        "\n",
        "1991    54000\n",
        "\n",
        "1992    58000\n",
        "\n",
        "Name: Salary, dtype: int64\n",
        "\n",
        "We see that the average salary in 1990 was 51,000 dollars, 54,000 in 1991, and 58,000 in 1992.\n",
        "\n",
        "Now let's see how much did each employee get paid in those **three years**. In this case, we will group the data by Name using the .groupby() method and then we will add up the salaries for each year. Let's see the result"
      ]
    },
    {
      "cell_type": "markdown",
      "metadata": {
        "id": "wUYiOlQBLUy0"
      },
      "source": [
        "# We display the salary distribution per department per year.\n",
        "data.groupby(['Year', 'Department'])['Salary'].sum()"
      ]
    },
    {
      "cell_type": "markdown",
      "metadata": {
        "id": "-1fHlz_hLYRj"
      },
      "source": [
        "Year  Department\n",
        "\n",
        "1990  Admin          55000\n",
        "\n",
        "      HR             50000\n",
        "\n",
        "      RD             48000\n",
        "\n",
        "1991  Admin          60000\n",
        "\n",
        "      HR             52000\n",
        "\n",
        "      RD             50000\n",
        "\n",
        "1992  Admin         122000\n",
        "\n",
        "      RD             52000\n",
        "\n",
        "Name: Salary, dtype: int64\n",
        "\n",
        "We see that in 1990 the Admin department paid 55,000 dollars in salaries,the HR department paid 50,000, and the RD department 48,0000. While in 1992 the Admin department paid 122,000 dollars in salaries and the RD department paid 52,000."
      ]
    },
    {
      "cell_type": "code",
      "metadata": {
        "id": "KuWTDq84Lpjw"
      },
      "source": [
        ""
      ],
      "execution_count": null,
      "outputs": []
    }
  ]
}